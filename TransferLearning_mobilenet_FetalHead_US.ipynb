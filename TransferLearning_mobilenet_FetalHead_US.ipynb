{
  "nbformat": 4,
  "nbformat_minor": 0,
  "metadata": {
    "colab": {
      "provenance": [],
      "gpuType": "T4",
      "collapsed_sections": [
        "5RwxGMjo9j9e",
        "Ls95OXjcqVMn",
        "3GrInJvO_nkF",
        "qfPbfzKOIWBS",
        "q_iFdfRWpPkf"
      ]
    },
    "kernelspec": {
      "name": "python3",
      "display_name": "Python 3"
    },
    "language_info": {
      "name": "python"
    },
    "accelerator": "GPU"
  },
  "cells": [
    {
      "cell_type": "markdown",
      "source": [
        "## Download and Install Required Libraries"
      ],
      "metadata": {
        "id": "7naYv04f_snn"
      }
    },
    {
      "cell_type": "markdown",
      "source": [
        "Github: [source codes](https://github.com/qubvel/segmentation_models.pytorch/blob/master/README.md)"
      ],
      "metadata": {
        "id": "E69N1dJk_9f9"
      }
    },
    {
      "cell_type": "code",
      "source": [
        "!pip install segmentation-models-pytorch"
      ],
      "metadata": {
        "colab": {
          "base_uri": "https://localhost:8080/"
        },
        "id": "c7X8gOiA_tsC",
        "outputId": "548c06b2-c00f-4345-e982-0dbc0ce98d9e"
      },
      "execution_count": 1,
      "outputs": [
        {
          "output_type": "stream",
          "name": "stdout",
          "text": [
            "Collecting segmentation-models-pytorch\n",
            "  Downloading segmentation_models_pytorch-0.3.3-py3-none-any.whl (106 kB)\n",
            "\u001b[?25l     \u001b[90m━━━━━━━━━━━━━━━━━━━━━━━━━━━━━━━━━━━━━━━━\u001b[0m \u001b[32m0.0/106.7 kB\u001b[0m \u001b[31m?\u001b[0m eta \u001b[36m-:--:--\u001b[0m\r\u001b[2K     \u001b[90m━━━━━━━━━━━━━━━━━━━━━━━━━━━━━━━━━━━━━━━\u001b[0m \u001b[32m106.7/106.7 kB\u001b[0m \u001b[31m8.6 MB/s\u001b[0m eta \u001b[36m0:00:00\u001b[0m\n",
            "\u001b[?25hRequirement already satisfied: torchvision>=0.5.0 in /usr/local/lib/python3.10/dist-packages (from segmentation-models-pytorch) (0.15.2+cu118)\n",
            "Collecting pretrainedmodels==0.7.4 (from segmentation-models-pytorch)\n",
            "  Downloading pretrainedmodels-0.7.4.tar.gz (58 kB)\n",
            "\u001b[?25l     \u001b[90m━━━━━━━━━━━━━━━━━━━━━━━━━━━━━━━━━━━━━━━━\u001b[0m \u001b[32m0.0/58.8 kB\u001b[0m \u001b[31m?\u001b[0m eta \u001b[36m-:--:--\u001b[0m\r\u001b[2K     \u001b[90m━━━━━━━━━━━━━━━━━━━━━━━━━━━━━━━━━━━━━━━━\u001b[0m \u001b[32m58.8/58.8 kB\u001b[0m \u001b[31m7.6 MB/s\u001b[0m eta \u001b[36m0:00:00\u001b[0m\n",
            "\u001b[?25h  Preparing metadata (setup.py) ... \u001b[?25l\u001b[?25hdone\n",
            "Collecting efficientnet-pytorch==0.7.1 (from segmentation-models-pytorch)\n",
            "  Downloading efficientnet_pytorch-0.7.1.tar.gz (21 kB)\n",
            "  Preparing metadata (setup.py) ... \u001b[?25l\u001b[?25hdone\n",
            "Collecting timm==0.9.2 (from segmentation-models-pytorch)\n",
            "  Downloading timm-0.9.2-py3-none-any.whl (2.2 MB)\n",
            "\u001b[2K     \u001b[90m━━━━━━━━━━━━━━━━━━━━━━━━━━━━━━━━━━━━━━━━\u001b[0m \u001b[32m2.2/2.2 MB\u001b[0m \u001b[31m80.7 MB/s\u001b[0m eta \u001b[36m0:00:00\u001b[0m\n",
            "\u001b[?25hRequirement already satisfied: tqdm in /usr/local/lib/python3.10/dist-packages (from segmentation-models-pytorch) (4.65.0)\n",
            "Requirement already satisfied: pillow in /usr/local/lib/python3.10/dist-packages (from segmentation-models-pytorch) (8.4.0)\n",
            "Requirement already satisfied: torch in /usr/local/lib/python3.10/dist-packages (from efficientnet-pytorch==0.7.1->segmentation-models-pytorch) (2.0.1+cu118)\n",
            "Collecting munch (from pretrainedmodels==0.7.4->segmentation-models-pytorch)\n",
            "  Downloading munch-4.0.0-py2.py3-none-any.whl (9.9 kB)\n",
            "Requirement already satisfied: pyyaml in /usr/local/lib/python3.10/dist-packages (from timm==0.9.2->segmentation-models-pytorch) (6.0)\n",
            "Collecting huggingface-hub (from timm==0.9.2->segmentation-models-pytorch)\n",
            "  Downloading huggingface_hub-0.16.4-py3-none-any.whl (268 kB)\n",
            "\u001b[2K     \u001b[90m━━━━━━━━━━━━━━━━━━━━━━━━━━━━━━━━━━━━━━\u001b[0m \u001b[32m268.8/268.8 kB\u001b[0m \u001b[31m29.7 MB/s\u001b[0m eta \u001b[36m0:00:00\u001b[0m\n",
            "\u001b[?25hCollecting safetensors (from timm==0.9.2->segmentation-models-pytorch)\n",
            "  Downloading safetensors-0.3.1-cp310-cp310-manylinux_2_17_x86_64.manylinux2014_x86_64.whl (1.3 MB)\n",
            "\u001b[2K     \u001b[90m━━━━━━━━━━━━━━━━━━━━━━━━━━━━━━━━━━━━━━━━\u001b[0m \u001b[32m1.3/1.3 MB\u001b[0m \u001b[31m84.7 MB/s\u001b[0m eta \u001b[36m0:00:00\u001b[0m\n",
            "\u001b[?25hRequirement already satisfied: numpy in /usr/local/lib/python3.10/dist-packages (from torchvision>=0.5.0->segmentation-models-pytorch) (1.22.4)\n",
            "Requirement already satisfied: requests in /usr/local/lib/python3.10/dist-packages (from torchvision>=0.5.0->segmentation-models-pytorch) (2.27.1)\n",
            "Requirement already satisfied: filelock in /usr/local/lib/python3.10/dist-packages (from torch->efficientnet-pytorch==0.7.1->segmentation-models-pytorch) (3.12.2)\n",
            "Requirement already satisfied: typing-extensions in /usr/local/lib/python3.10/dist-packages (from torch->efficientnet-pytorch==0.7.1->segmentation-models-pytorch) (4.6.3)\n",
            "Requirement already satisfied: sympy in /usr/local/lib/python3.10/dist-packages (from torch->efficientnet-pytorch==0.7.1->segmentation-models-pytorch) (1.11.1)\n",
            "Requirement already satisfied: networkx in /usr/local/lib/python3.10/dist-packages (from torch->efficientnet-pytorch==0.7.1->segmentation-models-pytorch) (3.1)\n",
            "Requirement already satisfied: jinja2 in /usr/local/lib/python3.10/dist-packages (from torch->efficientnet-pytorch==0.7.1->segmentation-models-pytorch) (3.1.2)\n",
            "Requirement already satisfied: triton==2.0.0 in /usr/local/lib/python3.10/dist-packages (from torch->efficientnet-pytorch==0.7.1->segmentation-models-pytorch) (2.0.0)\n",
            "Requirement already satisfied: cmake in /usr/local/lib/python3.10/dist-packages (from triton==2.0.0->torch->efficientnet-pytorch==0.7.1->segmentation-models-pytorch) (3.25.2)\n",
            "Requirement already satisfied: lit in /usr/local/lib/python3.10/dist-packages (from triton==2.0.0->torch->efficientnet-pytorch==0.7.1->segmentation-models-pytorch) (16.0.6)\n",
            "Requirement already satisfied: fsspec in /usr/local/lib/python3.10/dist-packages (from huggingface-hub->timm==0.9.2->segmentation-models-pytorch) (2023.6.0)\n",
            "Requirement already satisfied: packaging>=20.9 in /usr/local/lib/python3.10/dist-packages (from huggingface-hub->timm==0.9.2->segmentation-models-pytorch) (23.1)\n",
            "Requirement already satisfied: urllib3<1.27,>=1.21.1 in /usr/local/lib/python3.10/dist-packages (from requests->torchvision>=0.5.0->segmentation-models-pytorch) (1.26.16)\n",
            "Requirement already satisfied: certifi>=2017.4.17 in /usr/local/lib/python3.10/dist-packages (from requests->torchvision>=0.5.0->segmentation-models-pytorch) (2023.5.7)\n",
            "Requirement already satisfied: charset-normalizer~=2.0.0 in /usr/local/lib/python3.10/dist-packages (from requests->torchvision>=0.5.0->segmentation-models-pytorch) (2.0.12)\n",
            "Requirement already satisfied: idna<4,>=2.5 in /usr/local/lib/python3.10/dist-packages (from requests->torchvision>=0.5.0->segmentation-models-pytorch) (3.4)\n",
            "Requirement already satisfied: MarkupSafe>=2.0 in /usr/local/lib/python3.10/dist-packages (from jinja2->torch->efficientnet-pytorch==0.7.1->segmentation-models-pytorch) (2.1.3)\n",
            "Requirement already satisfied: mpmath>=0.19 in /usr/local/lib/python3.10/dist-packages (from sympy->torch->efficientnet-pytorch==0.7.1->segmentation-models-pytorch) (1.3.0)\n",
            "Building wheels for collected packages: efficientnet-pytorch, pretrainedmodels\n",
            "  Building wheel for efficientnet-pytorch (setup.py) ... \u001b[?25l\u001b[?25hdone\n",
            "  Created wheel for efficientnet-pytorch: filename=efficientnet_pytorch-0.7.1-py3-none-any.whl size=16427 sha256=164d3c62df506e47ab31eb343781c4a4741e69d2bcc53a2a499ef4a81cb96b0d\n",
            "  Stored in directory: /root/.cache/pip/wheels/03/3f/e9/911b1bc46869644912bda90a56bcf7b960f20b5187feea3baf\n",
            "  Building wheel for pretrainedmodels (setup.py) ... \u001b[?25l\u001b[?25hdone\n",
            "  Created wheel for pretrainedmodels: filename=pretrainedmodels-0.7.4-py3-none-any.whl size=60945 sha256=d1795e48cdf477254e1f9e0e6a829d20b3530e49b53519ed98986b333bfae5a0\n",
            "  Stored in directory: /root/.cache/pip/wheels/35/cb/a5/8f534c60142835bfc889f9a482e4a67e0b817032d9c6883b64\n",
            "Successfully built efficientnet-pytorch pretrainedmodels\n",
            "Installing collected packages: safetensors, munch, huggingface-hub, timm, pretrainedmodels, efficientnet-pytorch, segmentation-models-pytorch\n",
            "Successfully installed efficientnet-pytorch-0.7.1 huggingface-hub-0.16.4 munch-4.0.0 pretrainedmodels-0.7.4 safetensors-0.3.1 segmentation-models-pytorch-0.3.3 timm-0.9.2\n"
          ]
        }
      ]
    },
    {
      "cell_type": "code",
      "source": [
        "import ssl\n",
        "ssl._create_default_https_context = ssl._create_unverified_context"
      ],
      "metadata": {
        "id": "QP70k1_sY52l"
      },
      "execution_count": 2,
      "outputs": []
    },
    {
      "cell_type": "code",
      "source": [
        "!nvidia-smi"
      ],
      "metadata": {
        "colab": {
          "base_uri": "https://localhost:8080/"
        },
        "id": "GCkEvmBRnZsC",
        "outputId": "499bfe29-0208-429f-9bf3-03f122b2850d"
      },
      "execution_count": 3,
      "outputs": [
        {
          "output_type": "stream",
          "name": "stdout",
          "text": [
            "Tue Jul 11 10:43:45 2023       \n",
            "+-----------------------------------------------------------------------------+\n",
            "| NVIDIA-SMI 525.85.12    Driver Version: 525.85.12    CUDA Version: 12.0     |\n",
            "|-------------------------------+----------------------+----------------------+\n",
            "| GPU  Name        Persistence-M| Bus-Id        Disp.A | Volatile Uncorr. ECC |\n",
            "| Fan  Temp  Perf  Pwr:Usage/Cap|         Memory-Usage | GPU-Util  Compute M. |\n",
            "|                               |                      |               MIG M. |\n",
            "|===============================+======================+======================|\n",
            "|   0  Tesla T4            Off  | 00000000:00:04.0 Off |                    0 |\n",
            "| N/A   39C    P8     9W /  70W |      0MiB / 15360MiB |      0%      Default |\n",
            "|                               |                      |                  N/A |\n",
            "+-------------------------------+----------------------+----------------------+\n",
            "                                                                               \n",
            "+-----------------------------------------------------------------------------+\n",
            "| Processes:                                                                  |\n",
            "|  GPU   GI   CI        PID   Type   Process name                  GPU Memory |\n",
            "|        ID   ID                                                   Usage      |\n",
            "|=============================================================================|\n",
            "|  No running processes found                                                 |\n",
            "+-----------------------------------------------------------------------------+\n"
          ]
        }
      ]
    },
    {
      "cell_type": "markdown",
      "source": [
        "## Set Global Seed"
      ],
      "metadata": {
        "id": "nn59igVumdEA"
      }
    },
    {
      "cell_type": "code",
      "source": [
        "import random\n",
        "\n",
        "random.seed(13204942)"
      ],
      "metadata": {
        "id": "m6hOMvJMmWdN"
      },
      "execution_count": 4,
      "outputs": []
    },
    {
      "cell_type": "markdown",
      "source": [
        "## Mount Google Drive to access your data"
      ],
      "metadata": {
        "id": "F635c1oXpyoc"
      }
    },
    {
      "cell_type": "code",
      "source": [
        "from google.colab import drive\n",
        "drive.mount('/content/drive')"
      ],
      "metadata": {
        "id": "N0kXFEkHp1up",
        "colab": {
          "base_uri": "https://localhost:8080/"
        },
        "outputId": "345ff317-529b-4d9d-b668-6abb8f8e7c4f"
      },
      "execution_count": 5,
      "outputs": [
        {
          "output_type": "stream",
          "name": "stdout",
          "text": [
            "Mounted at /content/drive\n"
          ]
        }
      ]
    },
    {
      "cell_type": "code",
      "source": [
        "root_path = '/content/drive/MyDrive/Ultrasound_project/'"
      ],
      "metadata": {
        "id": "_niA7x-qp23A"
      },
      "execution_count": 6,
      "outputs": []
    },
    {
      "cell_type": "markdown",
      "source": [
        "### Data Preparation"
      ],
      "metadata": {
        "id": "fOsT2DTQqQbj"
      }
    },
    {
      "cell_type": "code",
      "source": [
        "import cv2\n",
        "import os\n",
        "from PIL import Image\n",
        "from torch.utils.data import Dataset\n",
        "import matplotlib.pyplot as plt\n",
        "\n",
        "import albumentations as A\n",
        "from albumentations.pytorch import ToTensorV2"
      ],
      "metadata": {
        "id": "mA8a9ws6q6qz"
      },
      "execution_count": 7,
      "outputs": []
    },
    {
      "cell_type": "code",
      "source": [
        "TRAIN_IMG_DIR = root_path + \"HC18_UNet_orig/train_images/\"\n",
        "TRAIN_MASK_DIR = root_path + \"HC18_UNet_orig/train_masks/\"\n",
        "\n",
        "VAL_IMG_DIR = root_path + \"HC18_UNet_orig/val_images/\"\n",
        "VAL_MASK_DIR = root_path + \"HC18_UNet_orig/val_masks/\""
      ],
      "metadata": {
        "id": "p0MW3O1BqQxJ"
      },
      "execution_count": 8,
      "outputs": []
    },
    {
      "cell_type": "code",
      "source": [
        "# process original mask to binary mask\n",
        "def preprocess_mask(mask):\n",
        "  #mask = mask.astype(np.float32)\n",
        "  #mask[mask == 2.0] = 0.0\n",
        "  #mask[(mask == 1.0) | (mask == 3.0)] = 1.0\n",
        "\n",
        "  # we need to use sigmoid\n",
        "  mask[mask == 255.0] = 1.0\n",
        "\n",
        "  mask = np.stack([mask], axis=-1).astype('float')\n",
        "  return mask"
      ],
      "metadata": {
        "id": "WLQ9AjMKLWLL"
      },
      "execution_count": 9,
      "outputs": []
    },
    {
      "cell_type": "code",
      "source": [
        "# Dataset class\n",
        "class HeadDataset(Dataset):\n",
        "  def __init__(self, image_dir, mask_dir, transform=None):\n",
        "    self.image_dir = image_dir\n",
        "    self.mask_dir = mask_dir\n",
        "    self.transform = transform\n",
        "    self.images = os.listdir(image_dir)\n",
        "\n",
        "  def __len__(self):\n",
        "    return len(self.images)\n",
        "\n",
        "  def __getitem__(self, index):\n",
        "    img_path = os.path.join(self.image_dir, self.images[index])\n",
        "    mask_path = os.path.join(self.mask_dir, self.images[index].replace(\".png\", \"_Annotation.png\"))\n",
        "    #image = np.array(Image.open(img_path).convert(\"RGB\"))\n",
        "    #mask = np.array(Image.open(mask_path).convert(\"L\"), dtype=np.float32)\n",
        "    image = cv2.imread(img_path)\n",
        "    image = cv2.cvtColor(image, cv2.COLOR_BGR2RGB)\n",
        "    mask = cv2.imread(mask_path, cv2.IMREAD_UNCHANGED).astype('float32')\n",
        "    #mask = preprocess_mask(mask)\n",
        "    mask[mask == 255.0] = 1.0\n",
        "\n",
        "    if self.transform is not None:\n",
        "      augmentations = self.transform(image=image, mask=mask)\n",
        "      image = augmentations[\"image\"]\n",
        "      mask = augmentations[\"mask\"]\n",
        "\n",
        "    return image, mask"
      ],
      "metadata": {
        "id": "VTTvSnGuqsTl"
      },
      "execution_count": 25,
      "outputs": []
    },
    {
      "cell_type": "code",
      "source": [
        "# helper function for data visualization\n",
        "def visualize(**images):\n",
        "    \"\"\"Plot images in one row.\"\"\"\n",
        "    n = len(images)\n",
        "    plt.figure(figsize=(10, 5))\n",
        "    for i, (name, image) in enumerate(images.items()):\n",
        "        plt.subplot(1, n, i + 1)\n",
        "        plt.xticks([])\n",
        "        plt.yticks([])\n",
        "        plt.title(' '.join(name.split('_')).title())\n",
        "        plt.imshow(image)\n",
        "    plt.show()"
      ],
      "metadata": {
        "id": "6ApIhtqRLRLy"
      },
      "execution_count": 10,
      "outputs": []
    },
    {
      "cell_type": "code",
      "source": [
        "# Lets look at data we have\n",
        "\n",
        "dataset = HeadDataset(\n",
        "    image_dir=TRAIN_IMG_DIR,\n",
        "    mask_dir=TRAIN_MASK_DIR,\n",
        "    transform=None,\n",
        "    )"
      ],
      "metadata": {
        "id": "JWVW-Z18IwYU"
      },
      "execution_count": null,
      "outputs": []
    },
    {
      "cell_type": "code",
      "source": [
        "index = random.sample(range(1, len(dataset)), 2)\n",
        "print(index)"
      ],
      "metadata": {
        "colab": {
          "base_uri": "https://localhost:8080/"
        },
        "id": "RKVfrc3DIb2L",
        "outputId": "c034d8f0-db09-4569-818a-e378e9ef6856"
      },
      "execution_count": null,
      "outputs": [
        {
          "output_type": "stream",
          "name": "stdout",
          "text": [
            "[748, 116]\n"
          ]
        }
      ]
    },
    {
      "cell_type": "code",
      "source": [
        "for i in index:\n",
        "  image, mask = dataset[i] # get some sample\n",
        "  visualize(\n",
        "      image=image,\n",
        "      head_mask=mask.squeeze(),\n",
        "  )"
      ],
      "metadata": {
        "id": "Gyp2DV7XfItY",
        "colab": {
          "base_uri": "https://localhost:8080/",
          "height": 577
        },
        "outputId": "31131acb-4902-4d1f-8b18-39173c3e054a"
      },
      "execution_count": null,
      "outputs": [
        {
          "output_type": "display_data",
          "data": {
            "text/plain": [
              "<Figure size 1000x500 with 2 Axes>"
            ],
            "image/png": "[encoded data removed]"
          },
          "metadata": {}
        },
        {
          "output_type": "display_data",
          "data": {
            "text/plain": [
              "<Figure size 1000x500 with 2 Axes>"
            ],
            "image/png": "[encoded data removed]"
          },
          "metadata": {}
        }
      ]
    },
    {
      "cell_type": "code",
      "source": [
        "print(image.shape, mask.shape)"
      ],
      "metadata": {
        "id": "x-cPTQ29fOJn",
        "colab": {
          "base_uri": "https://localhost:8080/"
        },
        "outputId": "095c41aa-c406-43dd-b9b0-c0472ca60d42"
      },
      "execution_count": null,
      "outputs": [
        {
          "output_type": "stream",
          "name": "stdout",
          "text": [
            "(540, 800, 3) (540, 800)\n"
          ]
        }
      ]
    },
    {
      "cell_type": "code",
      "source": [
        "# get Train/Validation DataLoaders from Dataset class\n",
        "def get_loaders(\n",
        "    train_dir,\n",
        "    train_maskdir,\n",
        "    val_dir,\n",
        "    val_maskdir,\n",
        "    batch_size,\n",
        "    train_transform,\n",
        "    val_transform,\n",
        "    num_workers=4,\n",
        "    pin_memory=True,\n",
        "):\n",
        "    train_ds = HeadDataset(\n",
        "        image_dir=train_dir,\n",
        "        mask_dir=train_maskdir,\n",
        "        transform=train_transform,\n",
        "    )\n",
        "\n",
        "    train_loader = DataLoader(\n",
        "        train_ds,\n",
        "        batch_size=batch_size,\n",
        "        num_workers=num_workers,\n",
        "        pin_memory=pin_memory,\n",
        "        shuffle=True,\n",
        "    )\n",
        "\n",
        "    val_ds = HeadDataset(\n",
        "        image_dir=val_dir,\n",
        "        mask_dir=val_maskdir,\n",
        "        transform=val_transform,\n",
        "    )\n",
        "\n",
        "    val_loader = DataLoader(\n",
        "        val_ds,\n",
        "        batch_size=batch_size,\n",
        "        num_workers=num_workers,\n",
        "        pin_memory=pin_memory,\n",
        "        shuffle=False,\n",
        "    )\n",
        "\n",
        "    return train_loader, val_loader"
      ],
      "metadata": {
        "id": "96vh7K5qeaZ3"
      },
      "execution_count": 10,
      "outputs": []
    },
    {
      "cell_type": "markdown",
      "source": [
        "## Build Model"
      ],
      "metadata": {
        "id": "RCKqY_O1p3e-"
      }
    },
    {
      "cell_type": "markdown",
      "source": [
        "We are using an existing Pytorch library, Segmentation Models (SMP), with Neural Networks for Image\n",
        "Segmentation. The official library document is [here](https://smp.readthedocs.io/)."
      ],
      "metadata": {
        "id": "JE8ZEO18fjNN"
      }
    },
    {
      "cell_type": "markdown",
      "source": [
        "P. Iakubovskii, “Segmentation models pytorch,” 2019.\n",
        "\n",
        "*@misc{Iakubovskii:2019,\n",
        "  Author = {Pavel Iakubovskii},\n",
        "  Title = {Segmentation Models Pytorch},\n",
        "  Year = {2019},\n",
        "  Publisher = {GitHub},\n",
        "  Journal = {GitHub repository},\n",
        "  Howpublished = {\\url{https://github.com/qubvel/segmentation_models.pytorch}}\n",
        "}*"
      ],
      "metadata": {
        "id": "NKK4mDPSfy4m"
      }
    },
    {
      "cell_type": "markdown",
      "source": [
        "**Avaliable architectures:**\n",
        " - Unet [[paper](https://arxiv.org/abs/1505.04597)] [[docs](https://smp.readthedocs.io/en/latest/models.html#unet)]\n",
        " - Unet++ [[paper](https://arxiv.org/pdf/1807.10165.pdf)] [[docs](https://smp.readthedocs.io/en/latest/models.html#id2)]\n",
        " - MAnet [[paper](https://ieeexplore.ieee.org/abstract/document/9201310)] [[docs](https://smp.readthedocs.io/en/latest/models.html#manet)]\n",
        " - Linknet [[paper](https://arxiv.org/abs/1707.03718)] [[docs](https://smp.readthedocs.io/en/latest/models.html#linknet)]\n",
        " - FPN [[paper](http://presentations.cocodataset.org/COCO17-Stuff-FAIR.pdf)] [[docs](https://smp.readthedocs.io/en/latest/models.html#fpn)]\n",
        " - PSPNet [[paper](https://arxiv.org/abs/1612.01105)] [[docs](https://smp.readthedocs.io/en/latest/models.html#pspnet)]\n",
        " - PAN [[paper](https://arxiv.org/abs/1805.10180)] [[docs](https://smp.readthedocs.io/en/latest/models.html#pan)]\n",
        " - DeepLabV3 [[paper](https://arxiv.org/abs/1706.05587)] [[docs](https://smp.readthedocs.io/en/latest/models.html#deeplabv3)]\n",
        " - DeepLabV3+ [[paper](https://arxiv.org/abs/1802.02611)] [[docs](https://smp.readthedocs.io/en/latest/models.html#id9)]"
      ],
      "metadata": {
        "id": "XSDxD8_Og7IN"
      }
    },
    {
      "cell_type": "markdown",
      "source": [
        "**Available Encoders:**\n",
        "The following is a list of supported encoders in the SMP library. The selected encoder and its pre-trained weights (encoder_name and encoder_weights parameters) are shown as below."
      ],
      "metadata": {
        "id": "VSCpyLV-h3Ny"
      }
    },
    {
      "cell_type": "markdown",
      "source": [
        "* ResNet\n",
        "\n",
        "| Encoder   | Weights               | Params, M |\n",
        "| --------- | --------------------- | --------- |\n",
        "| resnet18  | imagenet / ssl / swsl | 11M       |\n",
        "| resnet50  | imagenet / ssl / swsl | 23M       |\n",
        "| resnet101 | imagenet              | 42M       |\n",
        "| resnet152 | imagenet              | 58M       |"
      ],
      "metadata": {
        "id": "uIesjj1viN4j"
      }
    },
    {
      "cell_type": "markdown",
      "source": [
        "* Densenet\n",
        "\n",
        "|Encoder                         |Weights                         |Params, M                       |\n",
        "|--------------------------------|:------------------------------:|:------------------------------:|\n",
        "|densenet121                     |imagenet                        |6M                              |\n",
        "|densenet169                     |imagenet                        |12M                             |\n",
        "|densenet201                     |imagenet                        |18M                             |\n",
        "|densenet161                     |imagenet                        |26M                             |"
      ],
      "metadata": {
        "id": "QkSjd9sCiN7P"
      }
    },
    {
      "cell_type": "markdown",
      "source": [
        "* Inception\n",
        "\n",
        "|Encoder                         |Weights                         |Params, M                       |\n",
        "|--------------------------------|:------------------------------:|:------------------------------:|\n",
        "|inceptionresnetv2               |imagenet /  imagenet+background |54M                             |\n",
        "|inceptionv4                     |imagenet /  imagenet+background |41M                             |\n",
        "|xception                        |imagenet                        |22M                             |"
      ],
      "metadata": {
        "id": "I9PgAXaYjVnQ"
      }
    },
    {
      "cell_type": "markdown",
      "source": [
        "* Mobilenet\n",
        "\n",
        "|Encoder                         |Weights                         |Params, M                       |\n",
        "|--------------------------------|:------------------------------:|:------------------------------:|\n",
        "|mobilenet_v2                    |imagenet                        |2M                              |"
      ],
      "metadata": {
        "id": "Yg4sacdojWpk"
      }
    },
    {
      "cell_type": "markdown",
      "source": [
        "* VGG\n",
        "\n",
        "|Encoder                         |Weights                         |Params, M                       |\n",
        "|--------------------------------|:------------------------------:|:------------------------------:|\n",
        "|vgg11                           |imagenet                        |9M                              |\n",
        "|vgg13                           |imagenet                        |9M                              |\n",
        "|vgg16                           |imagenet                        |14M                             |\n",
        "|vgg19                           |imagenet                        |20M                             |"
      ],
      "metadata": {
        "id": "xhMdYOxXjWx5"
      }
    },
    {
      "cell_type": "code",
      "source": [
        "import os\n",
        "import numpy as np\n",
        "import pandas as pd\n",
        "import random, tqdm\n",
        "import seaborn as sns\n",
        "\n",
        "import torch\n",
        "import torch.nn as nn\n",
        "from torch.utils.data import DataLoader"
      ],
      "metadata": {
        "id": "65Uj_25eptPW"
      },
      "execution_count": 11,
      "outputs": []
    },
    {
      "cell_type": "code",
      "source": [
        "import segmentation_models_pytorch as smp\n",
        "import segmentation_models_pytorch.utils.metrics"
      ],
      "metadata": {
        "id": "7HDbgieTpwFB"
      },
      "execution_count": 12,
      "outputs": []
    },
    {
      "cell_type": "markdown",
      "source": [
        "Set pre-trained encoders. **Choose one ENCODER from above encoders list to build your model !**"
      ],
      "metadata": {
        "id": "ZC-YIvx7fdQf"
      }
    },
    {
      "cell_type": "code",
      "source": [
        "# if encoder needs to be frozen, set below flag = True\n",
        "freeze_flag = True"
      ],
      "metadata": {
        "id": "QKqEkE4FZI8I"
      },
      "execution_count": 16,
      "outputs": []
    },
    {
      "cell_type": "code",
      "source": [
        "ENCODER = 'mobilenet_v2'\n",
        "\n",
        "ENCODER_WEIGHTS = 'imagenet'\n",
        "CLASSES = ['head'] # a binary classification problem to classify each pixel into one of the two classes, Class 1: Head or Class 2: Not Head\n",
        "#ACTIVATION = 'sigmoid' # could be None for logits or 'softmax2d' for multiclass segmentation\n",
        "ACTIVATION = None # could be None for logits or 'softmax2d' for multiclass segmentation\n",
        "\n",
        "AUX_PARAMS=dict(\n",
        "    pooling='max',           # one of 'avg', 'max'\n",
        "    activation='sigmoid',    # activation function, default is None\n",
        "    classes=1,               # define number of output labels\n",
        ")"
      ],
      "metadata": {
        "id": "g4u_JdEref9w"
      },
      "execution_count": 13,
      "outputs": []
    },
    {
      "cell_type": "markdown",
      "source": [
        "**Select one of below architectures to build your model !**"
      ],
      "metadata": {
        "id": "bIFVOAObAOxH"
      }
    },
    {
      "cell_type": "markdown",
      "source": [
        "Build a deep learning architecture using library segmentation_models_pytorch, and then load pre-trained CNN to encoders inside the architecture."
      ],
      "metadata": {
        "id": "YhsO4X6nHd0j"
      }
    },
    {
      "cell_type": "markdown",
      "source": [
        "#### U-Net"
      ],
      "metadata": {
        "id": "GkXZoxwFkWX6"
      }
    },
    {
      "cell_type": "markdown",
      "source": [
        "<img src=https://lmb.informatik.uni-freiburg.de/people/ronneber/u-net/u-net-architecture.png width=\"640\">"
      ],
      "metadata": {
        "id": "AIj5tCx1vlwc"
      }
    },
    {
      "cell_type": "code",
      "source": [
        "# create segmentation model with pretrained encoder\n",
        "unet_model = smp.Unet(\n",
        "    encoder_name=ENCODER,\n",
        "    #encoder_weights=ENCODER_WEIGHTS,  # pre-training on ImageNet\n",
        "    encoder_weights=None,  # random initialization\n",
        "    decoder_attention_type=None,\n",
        "    classes=len(CLASSES),\n",
        "    activation=ACTIVATION,\n",
        "    aux_params=None\n",
        ")\n",
        "\n",
        "preprocessing_fn = smp.encoders.get_preprocessing_fn(ENCODER, ENCODER_WEIGHTS)"
      ],
      "metadata": {
        "id": "1PKWiPxnkYp3"
      },
      "execution_count": 14,
      "outputs": []
    },
    {
      "cell_type": "code",
      "source": [
        "model = unet_model\n",
        "\n",
        "if freeze_flag:\n",
        "  model_name = f'unet_frozen_{ENCODER}'\n",
        "else:\n",
        "  model_name = f'unet_{ENCODER}'"
      ],
      "metadata": {
        "id": "GcC4m3F8kktC"
      },
      "execution_count": 17,
      "outputs": []
    },
    {
      "cell_type": "code",
      "source": [
        "if freeze_flag:\n",
        "  for param in model.encoder.parameters():\n",
        "    param.requires_grad = False"
      ],
      "metadata": {
        "id": "DTtMx73DaeuO"
      },
      "execution_count": 19,
      "outputs": []
    },
    {
      "cell_type": "code",
      "source": [
        "model.classification_head = None"
      ],
      "metadata": {
        "id": "XjCRC6J2Jpfj"
      },
      "execution_count": 18,
      "outputs": []
    },
    {
      "cell_type": "code",
      "source": [
        "print(model)"
      ],
      "metadata": {
        "id": "qHEWKny1JyjD",
        "colab": {
          "base_uri": "https://localhost:8080/"
        },
        "outputId": "90c88977-6d7a-4365-f81f-9bcef24e1c41"
      },
      "execution_count": 19,
      "outputs": [
        {
          "output_type": "stream",
          "name": "stdout",
          "text": [
            "Unet(\n",
            "  (encoder): MobileNetV2Encoder(\n",
            "    (features): Sequential(\n",
            "      (0): Conv2dNormActivation(\n",
            "        (0): Conv2d(3, 32, kernel_size=(3, 3), stride=(2, 2), padding=(1, 1), bias=False)\n",
            "        (1): BatchNorm2d(32, eps=1e-05, momentum=0.1, affine=True, track_running_stats=True)\n",
            "        (2): ReLU6(inplace=True)\n",
            "      )\n",
            "      (1): InvertedResidual(\n",
            "        (conv): Sequential(\n",
            "          (0): Conv2dNormActivation(\n",
            "            (0): Conv2d(32, 32, kernel_size=(3, 3), stride=(1, 1), padding=(1, 1), groups=32, bias=False)\n",
            "            (1): BatchNorm2d(32, eps=1e-05, momentum=0.1, affine=True, track_running_stats=True)\n",
            "            (2): ReLU6(inplace=True)\n",
            "          )\n",
            "          (1): Conv2d(32, 16, kernel_size=(1, 1), stride=(1, 1), bias=False)\n",
            "          (2): BatchNorm2d(16, eps=1e-05, momentum=0.1, affine=True, track_running_stats=True)\n",
            "        )\n",
            "      )\n",
            "      (2): InvertedResidual(\n",
            "        (conv): Sequential(\n",
            "          (0): Conv2dNormActivation(\n",
            "            (0): Conv2d(16, 96, kernel_size=(1, 1), stride=(1, 1), bias=False)\n",
            "            (1): BatchNorm2d(96, eps=1e-05, momentum=0.1, affine=True, track_running_stats=True)\n",
            "            (2): ReLU6(inplace=True)\n",
            "          )\n",
            "          (1): Conv2dNormActivation(\n",
            "            (0): Conv2d(96, 96, kernel_size=(3, 3), stride=(2, 2), padding=(1, 1), groups=96, bias=False)\n",
            "            (1): BatchNorm2d(96, eps=1e-05, momentum=0.1, affine=True, track_running_stats=True)\n",
            "            (2): ReLU6(inplace=True)\n",
            "          )\n",
            "          (2): Conv2d(96, 24, kernel_size=(1, 1), stride=(1, 1), bias=False)\n",
            "          (3): BatchNorm2d(24, eps=1e-05, momentum=0.1, affine=True, track_running_stats=True)\n",
            "        )\n",
            "      )\n",
            "      (3): InvertedResidual(\n",
            "        (conv): Sequential(\n",
            "          (0): Conv2dNormActivation(\n",
            "            (0): Conv2d(24, 144, kernel_size=(1, 1), stride=(1, 1), bias=False)\n",
            "            (1): BatchNorm2d(144, eps=1e-05, momentum=0.1, affine=True, track_running_stats=True)\n",
            "            (2): ReLU6(inplace=True)\n",
            "          )\n",
            "          (1): Conv2dNormActivation(\n",
            "            (0): Conv2d(144, 144, kernel_size=(3, 3), stride=(1, 1), padding=(1, 1), groups=144, bias=False)\n",
            "            (1): BatchNorm2d(144, eps=1e-05, momentum=0.1, affine=True, track_running_stats=True)\n",
            "            (2): ReLU6(inplace=True)\n",
            "          )\n",
            "          (2): Conv2d(144, 24, kernel_size=(1, 1), stride=(1, 1), bias=False)\n",
            "          (3): BatchNorm2d(24, eps=1e-05, momentum=0.1, affine=True, track_running_stats=True)\n",
            "        )\n",
            "      )\n",
            "      (4): InvertedResidual(\n",
            "        (conv): Sequential(\n",
            "          (0): Conv2dNormActivation(\n",
            "            (0): Conv2d(24, 144, kernel_size=(1, 1), stride=(1, 1), bias=False)\n",
            "            (1): BatchNorm2d(144, eps=1e-05, momentum=0.1, affine=True, track_running_stats=True)\n",
            "            (2): ReLU6(inplace=True)\n",
            "          )\n",
            "          (1): Conv2dNormActivation(\n",
            "            (0): Conv2d(144, 144, kernel_size=(3, 3), stride=(2, 2), padding=(1, 1), groups=144, bias=False)\n",
            "            (1): BatchNorm2d(144, eps=1e-05, momentum=0.1, affine=True, track_running_stats=True)\n",
            "            (2): ReLU6(inplace=True)\n",
            "          )\n",
            "          (2): Conv2d(144, 32, kernel_size=(1, 1), stride=(1, 1), bias=False)\n",
            "          (3): BatchNorm2d(32, eps=1e-05, momentum=0.1, affine=True, track_running_stats=True)\n",
            "        )\n",
            "      )\n",
            "      (5): InvertedResidual(\n",
            "        (conv): Sequential(\n",
            "          (0): Conv2dNormActivation(\n",
            "            (0): Conv2d(32, 192, kernel_size=(1, 1), stride=(1, 1), bias=False)\n",
            "            (1): BatchNorm2d(192, eps=1e-05, momentum=0.1, affine=True, track_running_stats=True)\n",
            "            (2): ReLU6(inplace=True)\n",
            "          )\n",
            "          (1): Conv2dNormActivation(\n",
            "            (0): Conv2d(192, 192, kernel_size=(3, 3), stride=(1, 1), padding=(1, 1), groups=192, bias=False)\n",
            "            (1): BatchNorm2d(192, eps=1e-05, momentum=0.1, affine=True, track_running_stats=True)\n",
            "            (2): ReLU6(inplace=True)\n",
            "          )\n",
            "          (2): Conv2d(192, 32, kernel_size=(1, 1), stride=(1, 1), bias=False)\n",
            "          (3): BatchNorm2d(32, eps=1e-05, momentum=0.1, affine=True, track_running_stats=True)\n",
            "        )\n",
            "      )\n",
            "      (6): InvertedResidual(\n",
            "        (conv): Sequential(\n",
            "          (0): Conv2dNormActivation(\n",
            "            (0): Conv2d(32, 192, kernel_size=(1, 1), stride=(1, 1), bias=False)\n",
            "            (1): BatchNorm2d(192, eps=1e-05, momentum=0.1, affine=True, track_running_stats=True)\n",
            "            (2): ReLU6(inplace=True)\n",
            "          )\n",
            "          (1): Conv2dNormActivation(\n",
            "            (0): Conv2d(192, 192, kernel_size=(3, 3), stride=(1, 1), padding=(1, 1), groups=192, bias=False)\n",
            "            (1): BatchNorm2d(192, eps=1e-05, momentum=0.1, affine=True, track_running_stats=True)\n",
            "            (2): ReLU6(inplace=True)\n",
            "          )\n",
            "          (2): Conv2d(192, 32, kernel_size=(1, 1), stride=(1, 1), bias=False)\n",
            "          (3): BatchNorm2d(32, eps=1e-05, momentum=0.1, affine=True, track_running_stats=True)\n",
            "        )\n",
            "      )\n",
            "      (7): InvertedResidual(\n",
            "        (conv): Sequential(\n",
            "          (0): Conv2dNormActivation(\n",
            "            (0): Conv2d(32, 192, kernel_size=(1, 1), stride=(1, 1), bias=False)\n",
            "            (1): BatchNorm2d(192, eps=1e-05, momentum=0.1, affine=True, track_running_stats=True)\n",
            "            (2): ReLU6(inplace=True)\n",
            "          )\n",
            "          (1): Conv2dNormActivation(\n",
            "            (0): Conv2d(192, 192, kernel_size=(3, 3), stride=(2, 2), padding=(1, 1), groups=192, bias=False)\n",
            "            (1): BatchNorm2d(192, eps=1e-05, momentum=0.1, affine=True, track_running_stats=True)\n",
            "            (2): ReLU6(inplace=True)\n",
            "          )\n",
            "          (2): Conv2d(192, 64, kernel_size=(1, 1), stride=(1, 1), bias=False)\n",
            "          (3): BatchNorm2d(64, eps=1e-05, momentum=0.1, affine=True, track_running_stats=True)\n",
            "        )\n",
            "      )\n",
            "      (8): InvertedResidual(\n",
            "        (conv): Sequential(\n",
            "          (0): Conv2dNormActivation(\n",
            "            (0): Conv2d(64, 384, kernel_size=(1, 1), stride=(1, 1), bias=False)\n",
            "            (1): BatchNorm2d(384, eps=1e-05, momentum=0.1, affine=True, track_running_stats=True)\n",
            "            (2): ReLU6(inplace=True)\n",
            "          )\n",
            "          (1): Conv2dNormActivation(\n",
            "            (0): Conv2d(384, 384, kernel_size=(3, 3), stride=(1, 1), padding=(1, 1), groups=384, bias=False)\n",
            "            (1): BatchNorm2d(384, eps=1e-05, momentum=0.1, affine=True, track_running_stats=True)\n",
            "            (2): ReLU6(inplace=True)\n",
            "          )\n",
            "          (2): Conv2d(384, 64, kernel_size=(1, 1), stride=(1, 1), bias=False)\n",
            "          (3): BatchNorm2d(64, eps=1e-05, momentum=0.1, affine=True, track_running_stats=True)\n",
            "        )\n",
            "      )\n",
            "      (9): InvertedResidual(\n",
            "        (conv): Sequential(\n",
            "          (0): Conv2dNormActivation(\n",
            "            (0): Conv2d(64, 384, kernel_size=(1, 1), stride=(1, 1), bias=False)\n",
            "            (1): BatchNorm2d(384, eps=1e-05, momentum=0.1, affine=True, track_running_stats=True)\n",
            "            (2): ReLU6(inplace=True)\n",
            "          )\n",
            "          (1): Conv2dNormActivation(\n",
            "            (0): Conv2d(384, 384, kernel_size=(3, 3), stride=(1, 1), padding=(1, 1), groups=384, bias=False)\n",
            "            (1): BatchNorm2d(384, eps=1e-05, momentum=0.1, affine=True, track_running_stats=True)\n",
            "            (2): ReLU6(inplace=True)\n",
            "          )\n",
            "          (2): Conv2d(384, 64, kernel_size=(1, 1), stride=(1, 1), bias=False)\n",
            "          (3): BatchNorm2d(64, eps=1e-05, momentum=0.1, affine=True, track_running_stats=True)\n",
            "        )\n",
            "      )\n",
            "      (10): InvertedResidual(\n",
            "        (conv): Sequential(\n",
            "          (0): Conv2dNormActivation(\n",
            "            (0): Conv2d(64, 384, kernel_size=(1, 1), stride=(1, 1), bias=False)\n",
            "            (1): BatchNorm2d(384, eps=1e-05, momentum=0.1, affine=True, track_running_stats=True)\n",
            "            (2): ReLU6(inplace=True)\n",
            "          )\n",
            "          (1): Conv2dNormActivation(\n",
            "            (0): Conv2d(384, 384, kernel_size=(3, 3), stride=(1, 1), padding=(1, 1), groups=384, bias=False)\n",
            "            (1): BatchNorm2d(384, eps=1e-05, momentum=0.1, affine=True, track_running_stats=True)\n",
            "            (2): ReLU6(inplace=True)\n",
            "          )\n",
            "          (2): Conv2d(384, 64, kernel_size=(1, 1), stride=(1, 1), bias=False)\n",
            "          (3): BatchNorm2d(64, eps=1e-05, momentum=0.1, affine=True, track_running_stats=True)\n",
            "        )\n",
            "      )\n",
            "      (11): InvertedResidual(\n",
            "        (conv): Sequential(\n",
            "          (0): Conv2dNormActivation(\n",
            "            (0): Conv2d(64, 384, kernel_size=(1, 1), stride=(1, 1), bias=False)\n",
            "            (1): BatchNorm2d(384, eps=1e-05, momentum=0.1, affine=True, track_running_stats=True)\n",
            "            (2): ReLU6(inplace=True)\n",
            "          )\n",
            "          (1): Conv2dNormActivation(\n",
            "            (0): Conv2d(384, 384, kernel_size=(3, 3), stride=(1, 1), padding=(1, 1), groups=384, bias=False)\n",
            "            (1): BatchNorm2d(384, eps=1e-05, momentum=0.1, affine=True, track_running_stats=True)\n",
            "            (2): ReLU6(inplace=True)\n",
            "          )\n",
            "          (2): Conv2d(384, 96, kernel_size=(1, 1), stride=(1, 1), bias=False)\n",
            "          (3): BatchNorm2d(96, eps=1e-05, momentum=0.1, affine=True, track_running_stats=True)\n",
            "        )\n",
            "      )\n",
            "      (12): InvertedResidual(\n",
            "        (conv): Sequential(\n",
            "          (0): Conv2dNormActivation(\n",
            "            (0): Conv2d(96, 576, kernel_size=(1, 1), stride=(1, 1), bias=False)\n",
            "            (1): BatchNorm2d(576, eps=1e-05, momentum=0.1, affine=True, track_running_stats=True)\n",
            "            (2): ReLU6(inplace=True)\n",
            "          )\n",
            "          (1): Conv2dNormActivation(\n",
            "            (0): Conv2d(576, 576, kernel_size=(3, 3), stride=(1, 1), padding=(1, 1), groups=576, bias=False)\n",
            "            (1): BatchNorm2d(576, eps=1e-05, momentum=0.1, affine=True, track_running_stats=True)\n",
            "            (2): ReLU6(inplace=True)\n",
            "          )\n",
            "          (2): Conv2d(576, 96, kernel_size=(1, 1), stride=(1, 1), bias=False)\n",
            "          (3): BatchNorm2d(96, eps=1e-05, momentum=0.1, affine=True, track_running_stats=True)\n",
            "        )\n",
            "      )\n",
            "      (13): InvertedResidual(\n",
            "        (conv): Sequential(\n",
            "          (0): Conv2dNormActivation(\n",
            "            (0): Conv2d(96, 576, kernel_size=(1, 1), stride=(1, 1), bias=False)\n",
            "            (1): BatchNorm2d(576, eps=1e-05, momentum=0.1, affine=True, track_running_stats=True)\n",
            "            (2): ReLU6(inplace=True)\n",
            "          )\n",
            "          (1): Conv2dNormActivation(\n",
            "            (0): Conv2d(576, 576, kernel_size=(3, 3), stride=(1, 1), padding=(1, 1), groups=576, bias=False)\n",
            "            (1): BatchNorm2d(576, eps=1e-05, momentum=0.1, affine=True, track_running_stats=True)\n",
            "            (2): ReLU6(inplace=True)\n",
            "          )\n",
            "          (2): Conv2d(576, 96, kernel_size=(1, 1), stride=(1, 1), bias=False)\n",
            "          (3): BatchNorm2d(96, eps=1e-05, momentum=0.1, affine=True, track_running_stats=True)\n",
            "        )\n",
            "      )\n",
            "      (14): InvertedResidual(\n",
            "        (conv): Sequential(\n",
            "          (0): Conv2dNormActivation(\n",
            "            (0): Conv2d(96, 576, kernel_size=(1, 1), stride=(1, 1), bias=False)\n",
            "            (1): BatchNorm2d(576, eps=1e-05, momentum=0.1, affine=True, track_running_stats=True)\n",
            "            (2): ReLU6(inplace=True)\n",
            "          )\n",
            "          (1): Conv2dNormActivation(\n",
            "            (0): Conv2d(576, 576, kernel_size=(3, 3), stride=(2, 2), padding=(1, 1), groups=576, bias=False)\n",
            "            (1): BatchNorm2d(576, eps=1e-05, momentum=0.1, affine=True, track_running_stats=True)\n",
            "            (2): ReLU6(inplace=True)\n",
            "          )\n",
            "          (2): Conv2d(576, 160, kernel_size=(1, 1), stride=(1, 1), bias=False)\n",
            "          (3): BatchNorm2d(160, eps=1e-05, momentum=0.1, affine=True, track_running_stats=True)\n",
            "        )\n",
            "      )\n",
            "      (15): InvertedResidual(\n",
            "        (conv): Sequential(\n",
            "          (0): Conv2dNormActivation(\n",
            "            (0): Conv2d(160, 960, kernel_size=(1, 1), stride=(1, 1), bias=False)\n",
            "            (1): BatchNorm2d(960, eps=1e-05, momentum=0.1, affine=True, track_running_stats=True)\n",
            "            (2): ReLU6(inplace=True)\n",
            "          )\n",
            "          (1): Conv2dNormActivation(\n",
            "            (0): Conv2d(960, 960, kernel_size=(3, 3), stride=(1, 1), padding=(1, 1), groups=960, bias=False)\n",
            "            (1): BatchNorm2d(960, eps=1e-05, momentum=0.1, affine=True, track_running_stats=True)\n",
            "            (2): ReLU6(inplace=True)\n",
            "          )\n",
            "          (2): Conv2d(960, 160, kernel_size=(1, 1), stride=(1, 1), bias=False)\n",
            "          (3): BatchNorm2d(160, eps=1e-05, momentum=0.1, affine=True, track_running_stats=True)\n",
            "        )\n",
            "      )\n",
            "      (16): InvertedResidual(\n",
            "        (conv): Sequential(\n",
            "          (0): Conv2dNormActivation(\n",
            "            (0): Conv2d(160, 960, kernel_size=(1, 1), stride=(1, 1), bias=False)\n",
            "            (1): BatchNorm2d(960, eps=1e-05, momentum=0.1, affine=True, track_running_stats=True)\n",
            "            (2): ReLU6(inplace=True)\n",
            "          )\n",
            "          (1): Conv2dNormActivation(\n",
            "            (0): Conv2d(960, 960, kernel_size=(3, 3), stride=(1, 1), padding=(1, 1), groups=960, bias=False)\n",
            "            (1): BatchNorm2d(960, eps=1e-05, momentum=0.1, affine=True, track_running_stats=True)\n",
            "            (2): ReLU6(inplace=True)\n",
            "          )\n",
            "          (2): Conv2d(960, 160, kernel_size=(1, 1), stride=(1, 1), bias=False)\n",
            "          (3): BatchNorm2d(160, eps=1e-05, momentum=0.1, affine=True, track_running_stats=True)\n",
            "        )\n",
            "      )\n",
            "      (17): InvertedResidual(\n",
            "        (conv): Sequential(\n",
            "          (0): Conv2dNormActivation(\n",
            "            (0): Conv2d(160, 960, kernel_size=(1, 1), stride=(1, 1), bias=False)\n",
            "            (1): BatchNorm2d(960, eps=1e-05, momentum=0.1, affine=True, track_running_stats=True)\n",
            "            (2): ReLU6(inplace=True)\n",
            "          )\n",
            "          (1): Conv2dNormActivation(\n",
            "            (0): Conv2d(960, 960, kernel_size=(3, 3), stride=(1, 1), padding=(1, 1), groups=960, bias=False)\n",
            "            (1): BatchNorm2d(960, eps=1e-05, momentum=0.1, affine=True, track_running_stats=True)\n",
            "            (2): ReLU6(inplace=True)\n",
            "          )\n",
            "          (2): Conv2d(960, 320, kernel_size=(1, 1), stride=(1, 1), bias=False)\n",
            "          (3): BatchNorm2d(320, eps=1e-05, momentum=0.1, affine=True, track_running_stats=True)\n",
            "        )\n",
            "      )\n",
            "      (18): Conv2dNormActivation(\n",
            "        (0): Conv2d(320, 1280, kernel_size=(1, 1), stride=(1, 1), bias=False)\n",
            "        (1): BatchNorm2d(1280, eps=1e-05, momentum=0.1, affine=True, track_running_stats=True)\n",
            "        (2): ReLU6(inplace=True)\n",
            "      )\n",
            "    )\n",
            "  )\n",
            "  (decoder): UnetDecoder(\n",
            "    (center): Identity()\n",
            "    (blocks): ModuleList(\n",
            "      (0): DecoderBlock(\n",
            "        (conv1): Conv2dReLU(\n",
            "          (0): Conv2d(1376, 256, kernel_size=(3, 3), stride=(1, 1), padding=(1, 1), bias=False)\n",
            "          (1): BatchNorm2d(256, eps=1e-05, momentum=0.1, affine=True, track_running_stats=True)\n",
            "          (2): ReLU(inplace=True)\n",
            "        )\n",
            "        (attention1): Attention(\n",
            "          (attention): Identity()\n",
            "        )\n",
            "        (conv2): Conv2dReLU(\n",
            "          (0): Conv2d(256, 256, kernel_size=(3, 3), stride=(1, 1), padding=(1, 1), bias=False)\n",
            "          (1): BatchNorm2d(256, eps=1e-05, momentum=0.1, affine=True, track_running_stats=True)\n",
            "          (2): ReLU(inplace=True)\n",
            "        )\n",
            "        (attention2): Attention(\n",
            "          (attention): Identity()\n",
            "        )\n",
            "      )\n",
            "      (1): DecoderBlock(\n",
            "        (conv1): Conv2dReLU(\n",
            "          (0): Conv2d(288, 128, kernel_size=(3, 3), stride=(1, 1), padding=(1, 1), bias=False)\n",
            "          (1): BatchNorm2d(128, eps=1e-05, momentum=0.1, affine=True, track_running_stats=True)\n",
            "          (2): ReLU(inplace=True)\n",
            "        )\n",
            "        (attention1): Attention(\n",
            "          (attention): Identity()\n",
            "        )\n",
            "        (conv2): Conv2dReLU(\n",
            "          (0): Conv2d(128, 128, kernel_size=(3, 3), stride=(1, 1), padding=(1, 1), bias=False)\n",
            "          (1): BatchNorm2d(128, eps=1e-05, momentum=0.1, affine=True, track_running_stats=True)\n",
            "          (2): ReLU(inplace=True)\n",
            "        )\n",
            "        (attention2): Attention(\n",
            "          (attention): Identity()\n",
            "        )\n",
            "      )\n",
            "      (2): DecoderBlock(\n",
            "        (conv1): Conv2dReLU(\n",
            "          (0): Conv2d(152, 64, kernel_size=(3, 3), stride=(1, 1), padding=(1, 1), bias=False)\n",
            "          (1): BatchNorm2d(64, eps=1e-05, momentum=0.1, affine=True, track_running_stats=True)\n",
            "          (2): ReLU(inplace=True)\n",
            "        )\n",
            "        (attention1): Attention(\n",
            "          (attention): Identity()\n",
            "        )\n",
            "        (conv2): Conv2dReLU(\n",
            "          (0): Conv2d(64, 64, kernel_size=(3, 3), stride=(1, 1), padding=(1, 1), bias=False)\n",
            "          (1): BatchNorm2d(64, eps=1e-05, momentum=0.1, affine=True, track_running_stats=True)\n",
            "          (2): ReLU(inplace=True)\n",
            "        )\n",
            "        (attention2): Attention(\n",
            "          (attention): Identity()\n",
            "        )\n",
            "      )\n",
            "      (3): DecoderBlock(\n",
            "        (conv1): Conv2dReLU(\n",
            "          (0): Conv2d(80, 32, kernel_size=(3, 3), stride=(1, 1), padding=(1, 1), bias=False)\n",
            "          (1): BatchNorm2d(32, eps=1e-05, momentum=0.1, affine=True, track_running_stats=True)\n",
            "          (2): ReLU(inplace=True)\n",
            "        )\n",
            "        (attention1): Attention(\n",
            "          (attention): Identity()\n",
            "        )\n",
            "        (conv2): Conv2dReLU(\n",
            "          (0): Conv2d(32, 32, kernel_size=(3, 3), stride=(1, 1), padding=(1, 1), bias=False)\n",
            "          (1): BatchNorm2d(32, eps=1e-05, momentum=0.1, affine=True, track_running_stats=True)\n",
            "          (2): ReLU(inplace=True)\n",
            "        )\n",
            "        (attention2): Attention(\n",
            "          (attention): Identity()\n",
            "        )\n",
            "      )\n",
            "      (4): DecoderBlock(\n",
            "        (conv1): Conv2dReLU(\n",
            "          (0): Conv2d(32, 16, kernel_size=(3, 3), stride=(1, 1), padding=(1, 1), bias=False)\n",
            "          (1): BatchNorm2d(16, eps=1e-05, momentum=0.1, affine=True, track_running_stats=True)\n",
            "          (2): ReLU(inplace=True)\n",
            "        )\n",
            "        (attention1): Attention(\n",
            "          (attention): Identity()\n",
            "        )\n",
            "        (conv2): Conv2dReLU(\n",
            "          (0): Conv2d(16, 16, kernel_size=(3, 3), stride=(1, 1), padding=(1, 1), bias=False)\n",
            "          (1): BatchNorm2d(16, eps=1e-05, momentum=0.1, affine=True, track_running_stats=True)\n",
            "          (2): ReLU(inplace=True)\n",
            "        )\n",
            "        (attention2): Attention(\n",
            "          (attention): Identity()\n",
            "        )\n",
            "      )\n",
            "    )\n",
            "  )\n",
            "  (segmentation_head): SegmentationHead(\n",
            "    (0): Conv2d(16, 1, kernel_size=(3, 3), stride=(1, 1), padding=(1, 1))\n",
            "    (1): Identity()\n",
            "    (2): Activation(\n",
            "      (activation): Identity()\n",
            "    )\n",
            "  )\n",
            ")\n"
          ]
        }
      ]
    },
    {
      "cell_type": "markdown",
      "source": [
        "**Freeze Decoder layers partially**"
      ],
      "metadata": {
        "id": "j_vMJaO2EwVQ"
      }
    },
    {
      "cell_type": "code",
      "source": [
        "for param in model.encoder.parameters():\n",
        "  param.requires_grad = False"
      ],
      "metadata": {
        "id": "epF3jXjXWZKL"
      },
      "execution_count": 22,
      "outputs": []
    },
    {
      "cell_type": "code",
      "source": [
        "if freeze_flag:\n",
        "  # freeze all layers except the bottleneck\n",
        "  '''\n",
        "  for param in model.encoder.model.blocks[0].parameters():\n",
        "    param.requires_grad = False\n",
        "\n",
        "  for param in model.encoder.model.blocks[1].parameters():\n",
        "    param.requires_grad = False\n",
        "\n",
        "  for param in model.encoder.model.blocks[2].parameters():\n",
        "    param.requires_grad = False\n",
        "\n",
        "  for param in model.encoder.model.blocks[3].parameters():\n",
        "    param.requires_grad = False\n",
        "\n",
        "  for param in model.encoder.model.blocks[4].parameters():\n",
        "    param.requires_grad = False\n",
        "  '''\n",
        "  '''\n",
        "  for param in model.decoder.blocks[0].parameters():\n",
        "    param.requires_grad = False\n",
        "\n",
        "  for param in model.decoder.blocks[1].parameters():\n",
        "    param.requires_grad = False\n",
        "\n",
        "  for param in model.decoder.blocks[2].parameters():\n",
        "    param.requires_grad = False\n",
        "\n",
        "  for param in model.decoder.blocks[3].parameters():\n",
        "    param.requires_grad = False\n",
        "\n",
        "  for param in model.decoder.blocks[4].parameters():\n",
        "    param.requires_grad = False\n",
        "\n",
        "  for param in model.segmentation_head.parameters():\n",
        "    param.requires_grad = False\n",
        "  '''"
      ],
      "metadata": {
        "id": "M3XS55wSEvTo"
      },
      "execution_count": null,
      "outputs": []
    },
    {
      "cell_type": "code",
      "source": [
        "DEVICE = \"cuda\" if torch.cuda.is_available() else \"cpu\"\n",
        "model = model.to(DEVICE)"
      ],
      "metadata": {
        "id": "TzdL5UJmLnlF"
      },
      "execution_count": 20,
      "outputs": []
    },
    {
      "cell_type": "code",
      "source": [
        "from torchsummary import summary\n",
        "\n",
        "print(summary(model, (3, 512, 512)))"
      ],
      "metadata": {
        "colab": {
          "base_uri": "https://localhost:8080/"
        },
        "id": "ox6KnhI-Labm",
        "outputId": "e7a519f6-270e-4bc1-931c-554040c3f4fd"
      },
      "execution_count": 21,
      "outputs": [
        {
          "output_type": "stream",
          "name": "stdout",
          "text": [
            "----------------------------------------------------------------\n",
            "        Layer (type)               Output Shape         Param #\n",
            "================================================================\n",
            "            Conv2d-1         [-1, 32, 256, 256]             864\n",
            "       BatchNorm2d-2         [-1, 32, 256, 256]              64\n",
            "             ReLU6-3         [-1, 32, 256, 256]               0\n",
            "            Conv2d-4         [-1, 32, 256, 256]             288\n",
            "       BatchNorm2d-5         [-1, 32, 256, 256]              64\n",
            "             ReLU6-6         [-1, 32, 256, 256]               0\n",
            "            Conv2d-7         [-1, 16, 256, 256]             512\n",
            "       BatchNorm2d-8         [-1, 16, 256, 256]              32\n",
            "  InvertedResidual-9         [-1, 16, 256, 256]               0\n",
            "           Conv2d-10         [-1, 96, 256, 256]           1,536\n",
            "      BatchNorm2d-11         [-1, 96, 256, 256]             192\n",
            "            ReLU6-12         [-1, 96, 256, 256]               0\n",
            "           Conv2d-13         [-1, 96, 128, 128]             864\n",
            "      BatchNorm2d-14         [-1, 96, 128, 128]             192\n",
            "            ReLU6-15         [-1, 96, 128, 128]               0\n",
            "           Conv2d-16         [-1, 24, 128, 128]           2,304\n",
            "      BatchNorm2d-17         [-1, 24, 128, 128]              48\n",
            " InvertedResidual-18         [-1, 24, 128, 128]               0\n",
            "           Conv2d-19        [-1, 144, 128, 128]           3,456\n",
            "      BatchNorm2d-20        [-1, 144, 128, 128]             288\n",
            "            ReLU6-21        [-1, 144, 128, 128]               0\n",
            "           Conv2d-22        [-1, 144, 128, 128]           1,296\n",
            "      BatchNorm2d-23        [-1, 144, 128, 128]             288\n",
            "            ReLU6-24        [-1, 144, 128, 128]               0\n",
            "           Conv2d-25         [-1, 24, 128, 128]           3,456\n",
            "      BatchNorm2d-26         [-1, 24, 128, 128]              48\n",
            " InvertedResidual-27         [-1, 24, 128, 128]               0\n",
            "           Conv2d-28        [-1, 144, 128, 128]           3,456\n",
            "      BatchNorm2d-29        [-1, 144, 128, 128]             288\n",
            "            ReLU6-30        [-1, 144, 128, 128]               0\n",
            "           Conv2d-31          [-1, 144, 64, 64]           1,296\n",
            "      BatchNorm2d-32          [-1, 144, 64, 64]             288\n",
            "            ReLU6-33          [-1, 144, 64, 64]               0\n",
            "           Conv2d-34           [-1, 32, 64, 64]           4,608\n",
            "      BatchNorm2d-35           [-1, 32, 64, 64]              64\n",
            " InvertedResidual-36           [-1, 32, 64, 64]               0\n",
            "           Conv2d-37          [-1, 192, 64, 64]           6,144\n",
            "      BatchNorm2d-38          [-1, 192, 64, 64]             384\n",
            "            ReLU6-39          [-1, 192, 64, 64]               0\n",
            "           Conv2d-40          [-1, 192, 64, 64]           1,728\n",
            "      BatchNorm2d-41          [-1, 192, 64, 64]             384\n",
            "            ReLU6-42          [-1, 192, 64, 64]               0\n",
            "           Conv2d-43           [-1, 32, 64, 64]           6,144\n",
            "      BatchNorm2d-44           [-1, 32, 64, 64]              64\n",
            " InvertedResidual-45           [-1, 32, 64, 64]               0\n",
            "           Conv2d-46          [-1, 192, 64, 64]           6,144\n",
            "      BatchNorm2d-47          [-1, 192, 64, 64]             384\n",
            "            ReLU6-48          [-1, 192, 64, 64]               0\n",
            "           Conv2d-49          [-1, 192, 64, 64]           1,728\n",
            "      BatchNorm2d-50          [-1, 192, 64, 64]             384\n",
            "            ReLU6-51          [-1, 192, 64, 64]               0\n",
            "           Conv2d-52           [-1, 32, 64, 64]           6,144\n",
            "      BatchNorm2d-53           [-1, 32, 64, 64]              64\n",
            " InvertedResidual-54           [-1, 32, 64, 64]               0\n",
            "           Conv2d-55          [-1, 192, 64, 64]           6,144\n",
            "      BatchNorm2d-56          [-1, 192, 64, 64]             384\n",
            "            ReLU6-57          [-1, 192, 64, 64]               0\n",
            "           Conv2d-58          [-1, 192, 32, 32]           1,728\n",
            "      BatchNorm2d-59          [-1, 192, 32, 32]             384\n",
            "            ReLU6-60          [-1, 192, 32, 32]               0\n",
            "           Conv2d-61           [-1, 64, 32, 32]          12,288\n",
            "      BatchNorm2d-62           [-1, 64, 32, 32]             128\n",
            " InvertedResidual-63           [-1, 64, 32, 32]               0\n",
            "           Conv2d-64          [-1, 384, 32, 32]          24,576\n",
            "      BatchNorm2d-65          [-1, 384, 32, 32]             768\n",
            "            ReLU6-66          [-1, 384, 32, 32]               0\n",
            "           Conv2d-67          [-1, 384, 32, 32]           3,456\n",
            "      BatchNorm2d-68          [-1, 384, 32, 32]             768\n",
            "            ReLU6-69          [-1, 384, 32, 32]               0\n",
            "           Conv2d-70           [-1, 64, 32, 32]          24,576\n",
            "      BatchNorm2d-71           [-1, 64, 32, 32]             128\n",
            " InvertedResidual-72           [-1, 64, 32, 32]               0\n",
            "           Conv2d-73          [-1, 384, 32, 32]          24,576\n",
            "      BatchNorm2d-74          [-1, 384, 32, 32]             768\n",
            "            ReLU6-75          [-1, 384, 32, 32]               0\n",
            "           Conv2d-76          [-1, 384, 32, 32]           3,456\n",
            "      BatchNorm2d-77          [-1, 384, 32, 32]             768\n",
            "            ReLU6-78          [-1, 384, 32, 32]               0\n",
            "           Conv2d-79           [-1, 64, 32, 32]          24,576\n",
            "      BatchNorm2d-80           [-1, 64, 32, 32]             128\n",
            " InvertedResidual-81           [-1, 64, 32, 32]               0\n",
            "           Conv2d-82          [-1, 384, 32, 32]          24,576\n",
            "      BatchNorm2d-83          [-1, 384, 32, 32]             768\n",
            "            ReLU6-84          [-1, 384, 32, 32]               0\n",
            "           Conv2d-85          [-1, 384, 32, 32]           3,456\n",
            "      BatchNorm2d-86          [-1, 384, 32, 32]             768\n",
            "            ReLU6-87          [-1, 384, 32, 32]               0\n",
            "           Conv2d-88           [-1, 64, 32, 32]          24,576\n",
            "      BatchNorm2d-89           [-1, 64, 32, 32]             128\n",
            " InvertedResidual-90           [-1, 64, 32, 32]               0\n",
            "           Conv2d-91          [-1, 384, 32, 32]          24,576\n",
            "      BatchNorm2d-92          [-1, 384, 32, 32]             768\n",
            "            ReLU6-93          [-1, 384, 32, 32]               0\n",
            "           Conv2d-94          [-1, 384, 32, 32]           3,456\n",
            "      BatchNorm2d-95          [-1, 384, 32, 32]             768\n",
            "            ReLU6-96          [-1, 384, 32, 32]               0\n",
            "           Conv2d-97           [-1, 96, 32, 32]          36,864\n",
            "      BatchNorm2d-98           [-1, 96, 32, 32]             192\n",
            " InvertedResidual-99           [-1, 96, 32, 32]               0\n",
            "          Conv2d-100          [-1, 576, 32, 32]          55,296\n",
            "     BatchNorm2d-101          [-1, 576, 32, 32]           1,152\n",
            "           ReLU6-102          [-1, 576, 32, 32]               0\n",
            "          Conv2d-103          [-1, 576, 32, 32]           5,184\n",
            "     BatchNorm2d-104          [-1, 576, 32, 32]           1,152\n",
            "           ReLU6-105          [-1, 576, 32, 32]               0\n",
            "          Conv2d-106           [-1, 96, 32, 32]          55,296\n",
            "     BatchNorm2d-107           [-1, 96, 32, 32]             192\n",
            "InvertedResidual-108           [-1, 96, 32, 32]               0\n",
            "          Conv2d-109          [-1, 576, 32, 32]          55,296\n",
            "     BatchNorm2d-110          [-1, 576, 32, 32]           1,152\n",
            "           ReLU6-111          [-1, 576, 32, 32]               0\n",
            "          Conv2d-112          [-1, 576, 32, 32]           5,184\n",
            "     BatchNorm2d-113          [-1, 576, 32, 32]           1,152\n",
            "           ReLU6-114          [-1, 576, 32, 32]               0\n",
            "          Conv2d-115           [-1, 96, 32, 32]          55,296\n",
            "     BatchNorm2d-116           [-1, 96, 32, 32]             192\n",
            "InvertedResidual-117           [-1, 96, 32, 32]               0\n",
            "          Conv2d-118          [-1, 576, 32, 32]          55,296\n",
            "     BatchNorm2d-119          [-1, 576, 32, 32]           1,152\n",
            "           ReLU6-120          [-1, 576, 32, 32]               0\n",
            "          Conv2d-121          [-1, 576, 16, 16]           5,184\n",
            "     BatchNorm2d-122          [-1, 576, 16, 16]           1,152\n",
            "           ReLU6-123          [-1, 576, 16, 16]               0\n",
            "          Conv2d-124          [-1, 160, 16, 16]          92,160\n",
            "     BatchNorm2d-125          [-1, 160, 16, 16]             320\n",
            "InvertedResidual-126          [-1, 160, 16, 16]               0\n",
            "          Conv2d-127          [-1, 960, 16, 16]         153,600\n",
            "     BatchNorm2d-128          [-1, 960, 16, 16]           1,920\n",
            "           ReLU6-129          [-1, 960, 16, 16]               0\n",
            "          Conv2d-130          [-1, 960, 16, 16]           8,640\n",
            "     BatchNorm2d-131          [-1, 960, 16, 16]           1,920\n",
            "           ReLU6-132          [-1, 960, 16, 16]               0\n",
            "          Conv2d-133          [-1, 160, 16, 16]         153,600\n",
            "     BatchNorm2d-134          [-1, 160, 16, 16]             320\n",
            "InvertedResidual-135          [-1, 160, 16, 16]               0\n",
            "          Conv2d-136          [-1, 960, 16, 16]         153,600\n",
            "     BatchNorm2d-137          [-1, 960, 16, 16]           1,920\n",
            "           ReLU6-138          [-1, 960, 16, 16]               0\n",
            "          Conv2d-139          [-1, 960, 16, 16]           8,640\n",
            "     BatchNorm2d-140          [-1, 960, 16, 16]           1,920\n",
            "           ReLU6-141          [-1, 960, 16, 16]               0\n",
            "          Conv2d-142          [-1, 160, 16, 16]         153,600\n",
            "     BatchNorm2d-143          [-1, 160, 16, 16]             320\n",
            "InvertedResidual-144          [-1, 160, 16, 16]               0\n",
            "          Conv2d-145          [-1, 960, 16, 16]         153,600\n",
            "     BatchNorm2d-146          [-1, 960, 16, 16]           1,920\n",
            "           ReLU6-147          [-1, 960, 16, 16]               0\n",
            "          Conv2d-148          [-1, 960, 16, 16]           8,640\n",
            "     BatchNorm2d-149          [-1, 960, 16, 16]           1,920\n",
            "           ReLU6-150          [-1, 960, 16, 16]               0\n",
            "          Conv2d-151          [-1, 320, 16, 16]         307,200\n",
            "     BatchNorm2d-152          [-1, 320, 16, 16]             640\n",
            "InvertedResidual-153          [-1, 320, 16, 16]               0\n",
            "          Conv2d-154         [-1, 1280, 16, 16]         409,600\n",
            "     BatchNorm2d-155         [-1, 1280, 16, 16]           2,560\n",
            "           ReLU6-156         [-1, 1280, 16, 16]               0\n",
            "MobileNetV2Encoder-157  [[-1, 3, 512, 512], [-1, 16, 256, 256], [-1, 24, 128, 128], [-1, 32, 64, 64], [-1, 96, 32, 32], [-1, 1280, 16, 16]]               0\n",
            "        Identity-158         [-1, 1280, 16, 16]               0\n",
            "        Identity-159         [-1, 1376, 32, 32]               0\n",
            "       Attention-160         [-1, 1376, 32, 32]               0\n",
            "          Conv2d-161          [-1, 256, 32, 32]       3,170,304\n",
            "     BatchNorm2d-162          [-1, 256, 32, 32]             512\n",
            "            ReLU-163          [-1, 256, 32, 32]               0\n",
            "          Conv2d-164          [-1, 256, 32, 32]         589,824\n",
            "     BatchNorm2d-165          [-1, 256, 32, 32]             512\n",
            "            ReLU-166          [-1, 256, 32, 32]               0\n",
            "        Identity-167          [-1, 256, 32, 32]               0\n",
            "       Attention-168          [-1, 256, 32, 32]               0\n",
            "    DecoderBlock-169          [-1, 256, 32, 32]               0\n",
            "        Identity-170          [-1, 288, 64, 64]               0\n",
            "       Attention-171          [-1, 288, 64, 64]               0\n",
            "          Conv2d-172          [-1, 128, 64, 64]         331,776\n",
            "     BatchNorm2d-173          [-1, 128, 64, 64]             256\n",
            "            ReLU-174          [-1, 128, 64, 64]               0\n",
            "          Conv2d-175          [-1, 128, 64, 64]         147,456\n",
            "     BatchNorm2d-176          [-1, 128, 64, 64]             256\n",
            "            ReLU-177          [-1, 128, 64, 64]               0\n",
            "        Identity-178          [-1, 128, 64, 64]               0\n",
            "       Attention-179          [-1, 128, 64, 64]               0\n",
            "    DecoderBlock-180          [-1, 128, 64, 64]               0\n",
            "        Identity-181        [-1, 152, 128, 128]               0\n",
            "       Attention-182        [-1, 152, 128, 128]               0\n",
            "          Conv2d-183         [-1, 64, 128, 128]          87,552\n",
            "     BatchNorm2d-184         [-1, 64, 128, 128]             128\n",
            "            ReLU-185         [-1, 64, 128, 128]               0\n",
            "          Conv2d-186         [-1, 64, 128, 128]          36,864\n",
            "     BatchNorm2d-187         [-1, 64, 128, 128]             128\n",
            "            ReLU-188         [-1, 64, 128, 128]               0\n",
            "        Identity-189         [-1, 64, 128, 128]               0\n",
            "       Attention-190         [-1, 64, 128, 128]               0\n",
            "    DecoderBlock-191         [-1, 64, 128, 128]               0\n",
            "        Identity-192         [-1, 80, 256, 256]               0\n",
            "       Attention-193         [-1, 80, 256, 256]               0\n",
            "          Conv2d-194         [-1, 32, 256, 256]          23,040\n",
            "     BatchNorm2d-195         [-1, 32, 256, 256]              64\n",
            "            ReLU-196         [-1, 32, 256, 256]               0\n",
            "          Conv2d-197         [-1, 32, 256, 256]           9,216\n",
            "     BatchNorm2d-198         [-1, 32, 256, 256]              64\n",
            "            ReLU-199         [-1, 32, 256, 256]               0\n",
            "        Identity-200         [-1, 32, 256, 256]               0\n",
            "       Attention-201         [-1, 32, 256, 256]               0\n",
            "    DecoderBlock-202         [-1, 32, 256, 256]               0\n",
            "          Conv2d-203         [-1, 16, 512, 512]           4,608\n",
            "     BatchNorm2d-204         [-1, 16, 512, 512]              32\n",
            "            ReLU-205         [-1, 16, 512, 512]               0\n",
            "          Conv2d-206         [-1, 16, 512, 512]           2,304\n",
            "     BatchNorm2d-207         [-1, 16, 512, 512]              32\n",
            "            ReLU-208         [-1, 16, 512, 512]               0\n",
            "        Identity-209         [-1, 16, 512, 512]               0\n",
            "       Attention-210         [-1, 16, 512, 512]               0\n",
            "    DecoderBlock-211         [-1, 16, 512, 512]               0\n",
            "     UnetDecoder-212         [-1, 16, 512, 512]               0\n",
            "          Conv2d-213          [-1, 1, 512, 512]             145\n",
            "        Identity-214          [-1, 1, 512, 512]               0\n",
            "        Identity-215          [-1, 1, 512, 512]               0\n",
            "      Activation-216          [-1, 1, 512, 512]               0\n",
            "================================================================\n",
            "Total params: 6,628,945\n",
            "Trainable params: 6,628,945\n",
            "Non-trainable params: 0\n",
            "----------------------------------------------------------------\n",
            "Input size (MB): 3.00\n",
            "Forward/backward pass size (MB): 1556.56\n",
            "Params size (MB): 25.29\n",
            "Estimated Total Size (MB): 1584.85\n",
            "----------------------------------------------------------------\n",
            "None\n"
          ]
        }
      ]
    },
    {
      "cell_type": "markdown",
      "source": [
        "## Training Model"
      ],
      "metadata": {
        "id": "tVv-6l2qi16-"
      }
    },
    {
      "cell_type": "code",
      "source": [
        "# Hyperparameters etc.\n",
        "LEARNING_RATE = 1e-4\n",
        "DEVICE = \"cuda\" if torch.cuda.is_available() else \"cpu\"\n",
        "BATCH_SIZE = 10\n",
        "NUM_EPOCHS = 20 # 5 warm-up\n",
        "NUM_WORKERS = 2\n",
        "# UNet DeepLab3+\n",
        "#IMAGE_HEIGHT = 240  # 540 originally\n",
        "#IMAGE_WIDTH = 240  # 800 originally\n",
        "# FPN\n",
        "IMAGE_HEIGHT = 512  # 540 originally\n",
        "IMAGE_WIDTH = 512  # 800 originally\n",
        "\n",
        "PIN_MEMORY = True\n",
        "LOAD_MODEL = False"
      ],
      "metadata": {
        "id": "ngqtv85ZeeyK"
      },
      "execution_count": 22,
      "outputs": []
    },
    {
      "cell_type": "code",
      "source": [
        "DEVICE"
      ],
      "metadata": {
        "id": "W4DZrxrIwZjN",
        "outputId": "38b5eca2-466d-467e-b478-6921cd937db8",
        "colab": {
          "base_uri": "https://localhost:8080/",
          "height": 35
        }
      },
      "execution_count": 26,
      "outputs": [
        {
          "output_type": "execute_result",
          "data": {
            "text/plain": [
              "'cuda'"
            ],
            "application/vnd.google.colaboratory.intrinsic+json": {
              "type": "string"
            }
          },
          "metadata": {},
          "execution_count": 26
        }
      ]
    },
    {
      "cell_type": "markdown",
      "source": [
        "#### Set-up Data Loader"
      ],
      "metadata": {
        "id": "DOg0bp6zMr6A"
      }
    },
    {
      "cell_type": "code",
      "source": [
        "train_transform = A.Compose(\n",
        "    [\n",
        "        A.Resize(height=IMAGE_HEIGHT, width=IMAGE_WIDTH),\n",
        "        A.Rotate(limit=25, p=1.0),\n",
        "        A.HorizontalFlip(p=0.5),\n",
        "        A.VerticalFlip(p=0.1),\n",
        "        A.Normalize(\n",
        "            mean=[0.0, 0.0, 0.0],\n",
        "            std=[1.0, 1.0, 1.0],\n",
        "            max_pixel_value=255.0,\n",
        "        ),\n",
        "        ToTensorV2(),\n",
        "     ],\n",
        ")\n",
        "\n",
        "val_transforms = A.Compose(\n",
        "    [\n",
        "        A.Resize(height=IMAGE_HEIGHT, width=IMAGE_WIDTH),\n",
        "        A.Normalize(\n",
        "            mean=[0.0, 0.0, 0.0],\n",
        "            std=[1.0, 1.0, 1.0],\n",
        "            max_pixel_value=255.0,\n",
        "        ),\n",
        "        ToTensorV2(),\n",
        "     ],\n",
        ")"
      ],
      "metadata": {
        "id": "Hwbw1kZWMgvy"
      },
      "execution_count": 23,
      "outputs": []
    },
    {
      "cell_type": "code",
      "source": [
        "# split train, validation\n",
        "full_dataset = HeadDataset(\n",
        "    image_dir=TRAIN_IMG_DIR,\n",
        "    mask_dir=TRAIN_MASK_DIR,\n",
        "    transform=train_transform,\n",
        "    )"
      ],
      "metadata": {
        "id": "5gE8Ykjetfm6"
      },
      "execution_count": 26,
      "outputs": []
    },
    {
      "cell_type": "code",
      "source": [
        "train_size = int(0.8 * len(full_dataset))\n",
        "val_size = len(full_dataset) - train_size\n",
        "train_ds, val_ds = torch.utils.data.random_split(full_dataset, [train_size, val_size])"
      ],
      "metadata": {
        "id": "7Cn_icgDtjQ5"
      },
      "execution_count": 27,
      "outputs": []
    },
    {
      "cell_type": "markdown",
      "source": [
        "### Split Training Set"
      ],
      "metadata": {
        "id": "9J4Koutlnb9k"
      }
    },
    {
      "cell_type": "code",
      "source": [
        "len(train_ds)"
      ],
      "metadata": {
        "colab": {
          "base_uri": "https://localhost:8080/"
        },
        "id": "h8L1ARiJnk6R",
        "outputId": "6ee7da6b-eb76-430a-95d1-21a0a2016831"
      },
      "execution_count": null,
      "outputs": [
        {
          "output_type": "execute_result",
          "data": {
            "text/plain": [
              "799"
            ]
          },
          "metadata": {},
          "execution_count": 37
        }
      ]
    },
    {
      "cell_type": "code",
      "source": [
        "#split_train_size_10 = int(0.1 * len(train_ds))\n",
        "#split_train_size_30 = int(0.3 * len(train_ds))\n",
        "#split_train_size_50 = int(0.5 * len(train_ds))"
      ],
      "metadata": {
        "id": "ZjG2BcHAncTT"
      },
      "execution_count": null,
      "outputs": []
    },
    {
      "cell_type": "markdown",
      "source": [
        "#### Save Dataset"
      ],
      "metadata": {
        "id": "5RwxGMjo9j9e"
      }
    },
    {
      "cell_type": "code",
      "source": [
        "save_path = root_path + 'train_data_split/'"
      ],
      "metadata": {
        "id": "vExmn2ol-NHs"
      },
      "execution_count": 33,
      "outputs": []
    },
    {
      "cell_type": "code",
      "source": [
        "#train_length = split_train_size_10\n",
        "#train_length = split_train_size_30\n",
        "train_length = split_train_size_50"
      ],
      "metadata": {
        "id": "4MNJq276-AWO"
      },
      "execution_count": null,
      "outputs": []
    },
    {
      "cell_type": "code",
      "source": [
        "remaining_size = len(train_ds) - train_length\n",
        "train_ds, _ = torch.utils.data.random_split(train_ds, [train_length, remaining_size])"
      ],
      "metadata": {
        "id": "5XdIG6dG9n8T"
      },
      "execution_count": null,
      "outputs": []
    },
    {
      "cell_type": "code",
      "source": [
        "#torch.save(train_ds, save_path + 'split_train_size_10.pt')\n",
        "#torch.save(train_ds, save_path + 'split_train_size_30.pt')\n",
        "torch.save(train_ds, save_path + 'split_train_size_50.pt')"
      ],
      "metadata": {
        "id": "Vr9vJzwK-MJ9"
      },
      "execution_count": null,
      "outputs": []
    },
    {
      "cell_type": "markdown",
      "source": [
        "#### Load Dataset"
      ],
      "metadata": {
        "id": "Ls95OXjcqVMn"
      }
    },
    {
      "cell_type": "code",
      "source": [
        "print(save_path + 'split_train_size_50.pt')\n",
        "#train_ds = torch.load(save_path + 'split_train_size_10.pt')\n",
        "#train_ds = torch.load(save_path + 'split_train_size_30.pt')\n",
        "train_ds = torch.load(save_path + 'split_train_size_50.pt')"
      ],
      "metadata": {
        "colab": {
          "base_uri": "https://localhost:8080/",
          "height": 35
        },
        "id": "fBi1E47Oq2hJ",
        "outputId": "d8a54fd8-7cae-4a35-c02c-ed664577db99"
      },
      "execution_count": null,
      "outputs": [
        {
          "output_type": "execute_result",
          "data": {
            "text/plain": [
              "'/content/drive/MyDrive/Ultrasound_project/train_data_split/split_train_size_50.pt'"
            ],
            "application/vnd.google.colaboratory.intrinsic+json": {
              "type": "string"
            }
          },
          "metadata": {},
          "execution_count": 147
        }
      ]
    },
    {
      "cell_type": "code",
      "source": [
        "print(f'The lenght of train dataset: {len(train_ds)}')"
      ],
      "metadata": {
        "colab": {
          "base_uri": "https://localhost:8080/"
        },
        "id": "tC2562lsruSq",
        "outputId": "0d7bc7b6-49bd-4b13-edfd-64c3ac1476dc"
      },
      "execution_count": null,
      "outputs": [
        {
          "output_type": "stream",
          "name": "stdout",
          "text": [
            "The lenght of train dataset: 399\n"
          ]
        }
      ]
    },
    {
      "cell_type": "markdown",
      "source": [
        "#### Start DataLoader"
      ],
      "metadata": {
        "id": "3GrInJvO_nkF"
      }
    },
    {
      "cell_type": "code",
      "source": [
        "print(len(train_ds))\n",
        "print(len(val_ds))"
      ],
      "metadata": {
        "colab": {
          "base_uri": "https://localhost:8080/"
        },
        "id": "ynq22bjsr5Zn",
        "outputId": "25a4c7f9-f13f-4566-9858-2f1e45b60c1d"
      },
      "execution_count": null,
      "outputs": [
        {
          "output_type": "stream",
          "name": "stdout",
          "text": [
            "799\n",
            "200\n"
          ]
        }
      ]
    },
    {
      "cell_type": "code",
      "source": [
        "train_loader = DataLoader(\n",
        "    train_ds,\n",
        "    batch_size=BATCH_SIZE,\n",
        "    num_workers=NUM_WORKERS,\n",
        "    pin_memory=PIN_MEMORY,\n",
        "    shuffle=True,\n",
        ")\n",
        "\n",
        "val_loader = DataLoader(\n",
        "    val_ds,\n",
        "    batch_size=BATCH_SIZE,\n",
        "    num_workers=NUM_WORKERS,\n",
        "    pin_memory=PIN_MEMORY,\n",
        "    shuffle=False,\n",
        ")"
      ],
      "metadata": {
        "id": "mNCC5b6ktlb4"
      },
      "execution_count": null,
      "outputs": []
    },
    {
      "cell_type": "code",
      "source": [
        "print(len(train_loader))\n",
        "print(len(val_loader))"
      ],
      "metadata": {
        "colab": {
          "base_uri": "https://localhost:8080/"
        },
        "id": "wVPe3JMj890f",
        "outputId": "a3ef39f4-0b23-471d-e7c2-8805cc809756"
      },
      "execution_count": null,
      "outputs": [
        {
          "output_type": "stream",
          "name": "stdout",
          "text": [
            "80\n",
            "20\n"
          ]
        }
      ]
    },
    {
      "cell_type": "code",
      "source": [
        "'''\n",
        "train_loader, val_loader = get_loaders(\n",
        "    TRAIN_IMG_DIR,\n",
        "    TRAIN_MASK_DIR,\n",
        "    VAL_IMG_DIR,\n",
        "    VAL_MASK_DIR,\n",
        "    BATCH_SIZE,\n",
        "    train_transform,\n",
        "    val_transforms,\n",
        "    NUM_WORKERS,\n",
        "    PIN_MEMORY,\n",
        "    )\n",
        "'''"
      ],
      "metadata": {
        "id": "V5mc_56_MrFu"
      },
      "execution_count": null,
      "outputs": []
    },
    {
      "cell_type": "markdown",
      "source": [
        "#### Create a Function for Training"
      ],
      "metadata": {
        "id": "YBpGK3qT_dD7"
      }
    },
    {
      "cell_type": "code",
      "source": [
        "from tqdm import tqdm\n",
        "import torch.nn as nn\n",
        "import torch.optim as optim"
      ],
      "metadata": {
        "id": "Q9PiVbUBR01I"
      },
      "execution_count": 28,
      "outputs": []
    },
    {
      "cell_type": "code",
      "source": [
        "def train_fn(loader, model, optimizer, loss_fn, scaler):\n",
        "  loop = tqdm(loader)\n",
        "  losses = []\n",
        "\n",
        "  for batch_idx, (data, targets) in enumerate(loop):\n",
        "    data = data.to(device=DEVICE)\n",
        "    targets = targets.float().unsqueeze(1).to(device=DEVICE)\n",
        "\n",
        "    # forward\n",
        "    with torch.cuda.amp.autocast():\n",
        "      predictions = model(data)\n",
        "      #loss = loss_fn(predictions[0], targets)\n",
        "      loss = loss_fn(predictions, targets)\n",
        "      losses.append(loss.item())\n",
        "\n",
        "    # backward\n",
        "    optimizer.zero_grad()\n",
        "    scaler.scale(loss).backward()\n",
        "    scaler.step(optimizer)\n",
        "    scaler.update()\n",
        "\n",
        "    # update tqdm loop\n",
        "    loop.set_postfix(loss=loss.item())\n",
        "\n",
        "  return losses #loss.item()"
      ],
      "metadata": {
        "id": "NcHgomI8Uhva"
      },
      "execution_count": 35,
      "outputs": []
    },
    {
      "cell_type": "code",
      "source": [
        "def check_accuracy(loader, model, loss_fn, pix_acc, dice, iou, device=\"cuda\", is_train=True):\n",
        "    num_correct = 0\n",
        "    num_pixels = 0\n",
        "    dice_score = 0.0\n",
        "    iou_val = 0.0\n",
        "    losses = []\n",
        "    model.eval()\n",
        "\n",
        "    with torch.no_grad():\n",
        "        for x, y in loader:\n",
        "            x = x.to(device)\n",
        "            y = y.to(device).unsqueeze(1)\n",
        "            prediction = model(x)\n",
        "            loss = loss_fn(prediction, y.float())\n",
        "            losses.append(loss.item())\n",
        "\n",
        "            #preds = preds[0]\n",
        "            preds = torch.sigmoid(prediction)\n",
        "            preds = (preds > 0.5).float()\n",
        "            num_correct += (preds == y).sum()\n",
        "            num_pixels += torch.numel(preds)\n",
        "            dice_score += (2 * (preds * y).sum()) / (\n",
        "                (preds + y).sum() + 1e-8\n",
        "                )\n",
        "            iou_val += (preds * y).sum() / (\n",
        "                (preds + y).sum() - (preds * y).sum() + 1e-8\n",
        "                )\n",
        "\n",
        "        p_acc = num_correct/num_pixels*100\n",
        "        print(f\"Got {num_correct}/{num_pixels} with acc {p_acc:.4f}\")\n",
        "        pix_acc.append(p_acc.item())\n",
        "\n",
        "        d_score = dice_score * 100 / len(loader)\n",
        "        print(f\"Dice score: {d_score:.4f}\")\n",
        "        dice.append(d_score.item())\n",
        "\n",
        "        iou_score = iou_val * 100 / len(loader)\n",
        "        print(f\"mIoU: {iou_score:.4f}\")\n",
        "        iou.append(iou_score.item())\n",
        "\n",
        "    print(f\"Got validation loss: {np.mean(losses):.6f}\")\n",
        "\n",
        "    if is_train:\n",
        "      model.train()\n",
        "\n",
        "    return pix_acc, dice, iou, losses"
      ],
      "metadata": {
        "id": "rkhQQvp4Uuw4"
      },
      "execution_count": 29,
      "outputs": []
    },
    {
      "cell_type": "markdown",
      "source": [
        "#### Start Training"
      ],
      "metadata": {
        "id": "kh7PPVQW_Tpo"
      }
    },
    {
      "cell_type": "code",
      "source": [
        "model = model.to(DEVICE)\n",
        "loss_fn = nn.BCEWithLogitsLoss()\n",
        "optimizer = optim.Adam(model.parameters(), lr=LEARNING_RATE)\n",
        "scaler = torch.cuda.amp.GradScaler()"
      ],
      "metadata": {
        "id": "whWpHY7BWqZk"
      },
      "execution_count": 30,
      "outputs": []
    },
    {
      "cell_type": "code",
      "source": [
        "best_loss = 1.0\n",
        "\n",
        "pix_acc = []\n",
        "dice = []\n",
        "miou = []\n",
        "ep_loss = []\n",
        "tr_loss_global = []\n",
        "val_loss_global = []\n",
        "\n",
        "for epoch in range(NUM_EPOCHS):\n",
        "  print(f\"{epoch}:\")\n",
        "  current_loss = train_fn(train_loader, model, optimizer, loss_fn, scaler)\n",
        "  tr_loss_global += current_loss\n",
        "  print(\".\\n\")\n",
        "  print(f\"Got training loss: {np.mean(current_loss):.6f}\")\n",
        "\n",
        "  # check accuracy\n",
        "  pix_acc, dice_score, m_iou, ep_loss = check_accuracy(val_loader, model, loss_fn, pix_acc, dice, miou, device=DEVICE)\n",
        "  val_loss_global += ep_loss\n",
        "\n",
        "  # print some examples to a folder\n",
        "  #save_predictions_as_imgs(val_loader, model, folder=\"saved_images/\", device=DEVICE)"
      ],
      "metadata": {
        "id": "pOpJaFMhRt4z",
        "colab": {
          "base_uri": "https://localhost:8080/"
        },
        "outputId": "7bc0d5c1-7103-4167-d9ef-99ee721b1ec9"
      },
      "execution_count": null,
      "outputs": [
        {
          "output_type": "stream",
          "name": "stdout",
          "text": [
            "0:\n"
          ]
        },
        {
          "output_type": "stream",
          "name": "stderr",
          "text": [
            "100%|██████████| 80/80 [02:44<00:00,  2.06s/it, loss=0.357]"
          ]
        },
        {
          "output_type": "stream",
          "name": "stdout",
          "text": [
            ".\n",
            "\n",
            "Got training loss: 0.446614\n"
          ]
        },
        {
          "output_type": "stream",
          "name": "stderr",
          "text": [
            "\n"
          ]
        },
        {
          "output_type": "stream",
          "name": "stdout",
          "text": [
            "Got validation loss: 0.418041\n",
            "Got 41400778/52428800 with acc 78.9657\n",
            "Dice score: 53.6755\n",
            "mIoU: 36.8412\n",
            "1:\n"
          ]
        },
        {
          "output_type": "stream",
          "name": "stderr",
          "text": [
            "100%|██████████| 80/80 [00:22<00:00,  3.54it/s, loss=0.32]"
          ]
        },
        {
          "output_type": "stream",
          "name": "stdout",
          "text": [
            ".\n",
            "\n",
            "Got training loss: 0.308734\n"
          ]
        },
        {
          "output_type": "stream",
          "name": "stderr",
          "text": [
            "\n"
          ]
        },
        {
          "output_type": "stream",
          "name": "stdout",
          "text": [
            "Got validation loss: 0.284274\n",
            "Got 46402863/52428800 with acc 88.5064\n",
            "Dice score: 80.4493\n",
            "mIoU: 67.4475\n",
            "2:\n"
          ]
        },
        {
          "output_type": "stream",
          "name": "stderr",
          "text": [
            "100%|██████████| 80/80 [00:23<00:00,  3.46it/s, loss=0.254]"
          ]
        },
        {
          "output_type": "stream",
          "name": "stdout",
          "text": [
            ".\n",
            "\n",
            "Got training loss: 0.270887\n"
          ]
        },
        {
          "output_type": "stream",
          "name": "stderr",
          "text": [
            "\n"
          ]
        },
        {
          "output_type": "stream",
          "name": "stdout",
          "text": [
            "Got validation loss: 0.243572\n",
            "Got 47318642/52428800 with acc 90.2531\n",
            "Dice score: 85.0504\n",
            "mIoU: 74.0895\n",
            "3:\n"
          ]
        },
        {
          "output_type": "stream",
          "name": "stderr",
          "text": [
            "100%|██████████| 80/80 [00:22<00:00,  3.52it/s, loss=0.267]"
          ]
        },
        {
          "output_type": "stream",
          "name": "stdout",
          "text": [
            ".\n",
            "\n",
            "Got training loss: 0.245588\n"
          ]
        },
        {
          "output_type": "stream",
          "name": "stderr",
          "text": [
            "\n"
          ]
        },
        {
          "output_type": "stream",
          "name": "stdout",
          "text": [
            "Got validation loss: 0.231550\n",
            "Got 47574060/52428800 with acc 90.7403\n",
            "Dice score: 85.6370\n",
            "mIoU: 74.9771\n",
            "4:\n"
          ]
        },
        {
          "output_type": "stream",
          "name": "stderr",
          "text": [
            "100%|██████████| 80/80 [00:25<00:00,  3.15it/s, loss=0.223]"
          ]
        },
        {
          "output_type": "stream",
          "name": "stdout",
          "text": [
            ".\n",
            "\n",
            "Got training loss: 0.233015\n"
          ]
        },
        {
          "output_type": "stream",
          "name": "stderr",
          "text": [
            "\n"
          ]
        },
        {
          "output_type": "stream",
          "name": "stdout",
          "text": [
            "Got validation loss: 0.224513\n",
            "Got 47606269/52428800 with acc 90.8017\n",
            "Dice score: 85.9115\n",
            "mIoU: 75.3965\n",
            "5:\n"
          ]
        },
        {
          "output_type": "stream",
          "name": "stderr",
          "text": [
            "100%|██████████| 80/80 [00:23<00:00,  3.37it/s, loss=0.198]"
          ]
        },
        {
          "output_type": "stream",
          "name": "stdout",
          "text": [
            ".\n",
            "\n",
            "Got training loss: 0.219362\n"
          ]
        },
        {
          "output_type": "stream",
          "name": "stderr",
          "text": [
            "\n"
          ]
        },
        {
          "output_type": "stream",
          "name": "stdout",
          "text": [
            "Got validation loss: 0.201330\n",
            "Got 48213179/52428800 with acc 91.9593\n",
            "Dice score: 87.1051\n",
            "mIoU: 77.2485\n",
            "6:\n"
          ]
        },
        {
          "output_type": "stream",
          "name": "stderr",
          "text": [
            "100%|██████████| 80/80 [00:24<00:00,  3.32it/s, loss=0.205]"
          ]
        },
        {
          "output_type": "stream",
          "name": "stdout",
          "text": [
            ".\n",
            "\n",
            "Got training loss: 0.211781\n"
          ]
        },
        {
          "output_type": "stream",
          "name": "stderr",
          "text": [
            "\n"
          ]
        },
        {
          "output_type": "stream",
          "name": "stdout",
          "text": [
            "Got validation loss: 0.206328\n",
            "Got 48007348/52428800 with acc 91.5667\n",
            "Dice score: 86.9262\n",
            "mIoU: 76.9665\n",
            "7:\n"
          ]
        },
        {
          "output_type": "stream",
          "name": "stderr",
          "text": [
            "100%|██████████| 80/80 [00:30<00:00,  2.65it/s, loss=0.172]"
          ]
        },
        {
          "output_type": "stream",
          "name": "stdout",
          "text": [
            ".\n",
            "\n",
            "Got training loss: 0.204080\n"
          ]
        },
        {
          "output_type": "stream",
          "name": "stderr",
          "text": [
            "\n"
          ]
        },
        {
          "output_type": "stream",
          "name": "stdout",
          "text": [
            "Got validation loss: 0.187807\n",
            "Got 48431091/52428800 with acc 92.3750\n",
            "Dice score: 87.7542\n",
            "mIoU: 78.2676\n",
            "8:\n"
          ]
        },
        {
          "output_type": "stream",
          "name": "stderr",
          "text": [
            "100%|██████████| 80/80 [00:27<00:00,  2.95it/s, loss=0.164]"
          ]
        },
        {
          "output_type": "stream",
          "name": "stdout",
          "text": [
            ".\n",
            "\n",
            "Got training loss: 0.203526\n"
          ]
        },
        {
          "output_type": "stream",
          "name": "stderr",
          "text": [
            "\n"
          ]
        },
        {
          "output_type": "stream",
          "name": "stdout",
          "text": [
            "Got validation loss: 0.196428\n",
            "Got 48256386/52428800 with acc 92.0417\n",
            "Dice score: 86.7783\n",
            "mIoU: 76.7365\n",
            "9:\n"
          ]
        },
        {
          "output_type": "stream",
          "name": "stderr",
          "text": [
            "100%|██████████| 80/80 [00:24<00:00,  3.23it/s, loss=0.199]"
          ]
        },
        {
          "output_type": "stream",
          "name": "stdout",
          "text": [
            ".\n",
            "\n",
            "Got training loss: 0.195019\n"
          ]
        },
        {
          "output_type": "stream",
          "name": "stderr",
          "text": [
            "\n"
          ]
        },
        {
          "output_type": "stream",
          "name": "stdout",
          "text": [
            "Got validation loss: 0.179491\n",
            "Got 48607625/52428800 with acc 92.7117\n",
            "Dice score: 88.1619\n",
            "mIoU: 78.8839\n",
            "10:\n"
          ]
        },
        {
          "output_type": "stream",
          "name": "stderr",
          "text": [
            "100%|██████████| 80/80 [00:24<00:00,  3.27it/s, loss=0.199]"
          ]
        },
        {
          "output_type": "stream",
          "name": "stdout",
          "text": [
            ".\n",
            "\n",
            "Got training loss: 0.191303\n"
          ]
        },
        {
          "output_type": "stream",
          "name": "stderr",
          "text": [
            "\n"
          ]
        },
        {
          "output_type": "stream",
          "name": "stdout",
          "text": [
            "Got validation loss: 0.182888\n",
            "Got 48540727/52428800 with acc 92.5841\n",
            "Dice score: 88.2811\n",
            "mIoU: 79.0873\n",
            "11:\n"
          ]
        },
        {
          "output_type": "stream",
          "name": "stderr",
          "text": [
            "100%|██████████| 80/80 [00:26<00:00,  3.08it/s, loss=0.159]"
          ]
        },
        {
          "output_type": "stream",
          "name": "stdout",
          "text": [
            ".\n",
            "\n",
            "Got training loss: 0.186015\n"
          ]
        },
        {
          "output_type": "stream",
          "name": "stderr",
          "text": [
            "\n"
          ]
        },
        {
          "output_type": "stream",
          "name": "stdout",
          "text": [
            "Got validation loss: 0.177037\n",
            "Got 48649778/52428800 with acc 92.7921\n",
            "Dice score: 88.2147\n",
            "mIoU: 78.9855\n",
            "12:\n"
          ]
        },
        {
          "output_type": "stream",
          "name": "stderr",
          "text": [
            "100%|██████████| 80/80 [00:24<00:00,  3.24it/s, loss=0.15]"
          ]
        },
        {
          "output_type": "stream",
          "name": "stdout",
          "text": [
            ".\n",
            "\n",
            "Got training loss: 0.186308\n"
          ]
        },
        {
          "output_type": "stream",
          "name": "stderr",
          "text": [
            "\n"
          ]
        },
        {
          "output_type": "stream",
          "name": "stdout",
          "text": [
            "Got validation loss: 0.181193\n",
            "Got 48585741/52428800 with acc 92.6699\n",
            "Dice score: 87.6592\n",
            "mIoU: 78.1357\n",
            "13:\n"
          ]
        },
        {
          "output_type": "stream",
          "name": "stderr",
          "text": [
            "100%|██████████| 80/80 [00:24<00:00,  3.26it/s, loss=0.209]"
          ]
        },
        {
          "output_type": "stream",
          "name": "stdout",
          "text": [
            ".\n",
            "\n",
            "Got training loss: 0.181624\n"
          ]
        },
        {
          "output_type": "stream",
          "name": "stderr",
          "text": [
            "\n"
          ]
        },
        {
          "output_type": "stream",
          "name": "stdout",
          "text": [
            "Got validation loss: 0.176422\n",
            "Got 48683736/52428800 with acc 92.8569\n",
            "Dice score: 88.7303\n",
            "mIoU: 79.8209\n",
            "14:\n"
          ]
        },
        {
          "output_type": "stream",
          "name": "stderr",
          "text": [
            "100%|██████████| 80/80 [00:24<00:00,  3.23it/s, loss=0.208]"
          ]
        },
        {
          "output_type": "stream",
          "name": "stdout",
          "text": [
            ".\n",
            "\n",
            "Got training loss: 0.180982\n"
          ]
        },
        {
          "output_type": "stream",
          "name": "stderr",
          "text": [
            "\n"
          ]
        },
        {
          "output_type": "stream",
          "name": "stdout",
          "text": [
            "Got validation loss: 0.168081\n",
            "Got 48894803/52428800 with acc 93.2594\n",
            "Dice score: 88.9955\n",
            "mIoU: 80.2321\n",
            "15:\n"
          ]
        },
        {
          "output_type": "stream",
          "name": "stderr",
          "text": [
            "100%|██████████| 80/80 [00:24<00:00,  3.24it/s, loss=0.171]"
          ]
        },
        {
          "output_type": "stream",
          "name": "stdout",
          "text": [
            ".\n",
            "\n",
            "Got training loss: 0.174574\n"
          ]
        },
        {
          "output_type": "stream",
          "name": "stderr",
          "text": [
            "\n"
          ]
        },
        {
          "output_type": "stream",
          "name": "stdout",
          "text": [
            "Got validation loss: 0.163264\n",
            "Got 48959807/52428800 with acc 93.3834\n",
            "Dice score: 89.1501\n",
            "mIoU: 80.4922\n",
            "16:\n"
          ]
        },
        {
          "output_type": "stream",
          "name": "stderr",
          "text": [
            "100%|██████████| 80/80 [00:25<00:00,  3.20it/s, loss=0.158]"
          ]
        },
        {
          "output_type": "stream",
          "name": "stdout",
          "text": [
            ".\n",
            "\n",
            "Got training loss: 0.170240\n"
          ]
        },
        {
          "output_type": "stream",
          "name": "stderr",
          "text": [
            "\n"
          ]
        },
        {
          "output_type": "stream",
          "name": "stdout",
          "text": [
            "Got validation loss: 0.163222\n",
            "Got 48940075/52428800 with acc 93.3458\n",
            "Dice score: 89.0543\n",
            "mIoU: 80.3382\n",
            "17:\n"
          ]
        },
        {
          "output_type": "stream",
          "name": "stderr",
          "text": [
            "100%|██████████| 80/80 [00:25<00:00,  3.16it/s, loss=0.201]"
          ]
        },
        {
          "output_type": "stream",
          "name": "stdout",
          "text": [
            ".\n",
            "\n",
            "Got training loss: 0.169984\n"
          ]
        },
        {
          "output_type": "stream",
          "name": "stderr",
          "text": [
            "\n"
          ]
        },
        {
          "output_type": "stream",
          "name": "stdout",
          "text": [
            "Got validation loss: 0.160494\n",
            "Got 49009758/52428800 with acc 93.4787\n",
            "Dice score: 89.4301\n",
            "mIoU: 80.9362\n",
            "18:\n"
          ]
        },
        {
          "output_type": "stream",
          "name": "stderr",
          "text": [
            "100%|██████████| 80/80 [00:25<00:00,  3.17it/s, loss=0.167]"
          ]
        },
        {
          "output_type": "stream",
          "name": "stdout",
          "text": [
            ".\n",
            "\n",
            "Got training loss: 0.167042\n"
          ]
        },
        {
          "output_type": "stream",
          "name": "stderr",
          "text": [
            "\n"
          ]
        },
        {
          "output_type": "stream",
          "name": "stdout",
          "text": [
            "Got validation loss: 0.152704\n",
            "Got 49218040/52428800 with acc 93.8760\n",
            "Dice score: 89.9686\n",
            "mIoU: 81.8482\n",
            "19:\n"
          ]
        },
        {
          "output_type": "stream",
          "name": "stderr",
          "text": [
            "100%|██████████| 80/80 [00:26<00:00,  2.97it/s, loss=0.168]"
          ]
        },
        {
          "output_type": "stream",
          "name": "stdout",
          "text": [
            ".\n",
            "\n",
            "Got training loss: 0.167495\n"
          ]
        },
        {
          "output_type": "stream",
          "name": "stderr",
          "text": [
            "\n"
          ]
        },
        {
          "output_type": "stream",
          "name": "stdout",
          "text": [
            "Got validation loss: 0.169099\n",
            "Got 48803502/52428800 with acc 93.0853\n",
            "Dice score: 88.1769\n",
            "mIoU: 78.9478\n"
          ]
        }
      ]
    },
    {
      "cell_type": "markdown",
      "source": [
        "Write results to a txt file."
      ],
      "metadata": {
        "id": "dh82Wv5UtjwJ"
      }
    },
    {
      "cell_type": "code",
      "source": [
        "np.savetxt(\"tr_loss_global.txt\", np.array(tr_loss_global))\n",
        "np.savetxt(\"val_loss_global.txt\", np.array(val_loss_global))"
      ],
      "metadata": {
        "id": "i-vqQE5HtiIp"
      },
      "execution_count": null,
      "outputs": []
    },
    {
      "cell_type": "markdown",
      "source": [
        "Calculate average Pixel Accuracy:"
      ],
      "metadata": {
        "id": "h16JGrVqlUUI"
      }
    },
    {
      "cell_type": "code",
      "source": [
        "pix_acc"
      ],
      "metadata": {
        "colab": {
          "base_uri": "https://localhost:8080/"
        },
        "id": "jglK7HPpwmur",
        "outputId": "17503621-16c5-442f-be9f-becb4fd7a34d"
      },
      "execution_count": null,
      "outputs": [
        {
          "output_type": "execute_result",
          "data": {
            "text/plain": [
              "[78.96571350097656,\n",
              " 88.50643920898438,\n",
              " 90.25313568115234,\n",
              " 90.74031829833984,\n",
              " 90.80174255371094,\n",
              " 91.95934295654297,\n",
              " 91.5667495727539,\n",
              " 92.3749771118164,\n",
              " 92.041748046875,\n",
              " 92.71167755126953,\n",
              " 92.58409118652344,\n",
              " 92.79208374023438,\n",
              " 92.66993713378906,\n",
              " 92.85685729980469,\n",
              " 93.25943756103516,\n",
              " 93.3834228515625,\n",
              " 93.34578704833984,\n",
              " 93.47869873046875,\n",
              " 93.8759536743164,\n",
              " 93.08529663085938]"
            ]
          },
          "metadata": {},
          "execution_count": 64
        }
      ]
    },
    {
      "cell_type": "code",
      "source": [
        "np.round(np.mean(pix_acc[5:]), 4) # without warm-up"
      ],
      "metadata": {
        "id": "pVskjNI5ZqHT",
        "colab": {
          "base_uri": "https://localhost:8080/"
        },
        "outputId": "5d770bd0-9d74-4366-c5d7-c79f709faba9"
      },
      "execution_count": null,
      "outputs": [
        {
          "output_type": "execute_result",
          "data": {
            "text/plain": [
              "97.6515"
            ]
          },
          "metadata": {},
          "execution_count": 45
        }
      ]
    },
    {
      "cell_type": "code",
      "source": [
        "np.round(np.std(pix_acc[5:]), 6) # without warm-up"
      ],
      "metadata": {
        "colab": {
          "base_uri": "https://localhost:8080/"
        },
        "id": "VybsA5QMab6g",
        "outputId": "2ae12e3b-8e10-4ab6-a186-fd9965452c69"
      },
      "execution_count": null,
      "outputs": [
        {
          "output_type": "execute_result",
          "data": {
            "text/plain": [
              "0.544584"
            ]
          },
          "metadata": {},
          "execution_count": 46
        }
      ]
    },
    {
      "cell_type": "markdown",
      "source": [
        "Calculate average Dice Score:"
      ],
      "metadata": {
        "id": "JTZ1JxngldKa"
      }
    },
    {
      "cell_type": "code",
      "source": [
        "dice_score"
      ],
      "metadata": {
        "colab": {
          "base_uri": "https://localhost:8080/"
        },
        "id": "twRR41NLwpqC",
        "outputId": "76711df8-28f4-4eda-ccf0-ac1504cc99c6"
      },
      "execution_count": null,
      "outputs": [
        {
          "output_type": "execute_result",
          "data": {
            "text/plain": [
              "[53.67550277709961,\n",
              " 80.44927215576172,\n",
              " 85.05042266845703,\n",
              " 85.63704681396484,\n",
              " 85.91152954101562,\n",
              " 87.10506439208984,\n",
              " 86.92620086669922,\n",
              " 87.75416564941406,\n",
              " 86.77825927734375,\n",
              " 88.16191864013672,\n",
              " 88.28108978271484,\n",
              " 88.21473693847656,\n",
              " 87.6592025756836,\n",
              " 88.73033142089844,\n",
              " 88.9954833984375,\n",
              " 89.15013885498047,\n",
              " 89.05427551269531,\n",
              " 89.4300765991211,\n",
              " 89.96859741210938,\n",
              " 88.17686462402344]"
            ]
          },
          "metadata": {},
          "execution_count": 65
        }
      ]
    },
    {
      "cell_type": "code",
      "source": [
        "np.round(np.mean(dice_score[5:]), 6) # without warm-up"
      ],
      "metadata": {
        "colab": {
          "base_uri": "https://localhost:8080/"
        },
        "id": "bCsIs_SmbLcD",
        "outputId": "1ad3ab40-fe55-4c87-e32a-1de2b07775f3"
      },
      "execution_count": null,
      "outputs": [
        {
          "output_type": "execute_result",
          "data": {
            "text/plain": [
              "0.961309"
            ]
          },
          "metadata": {},
          "execution_count": 47
        }
      ]
    },
    {
      "cell_type": "code",
      "source": [
        "np.round(np.std(dice_score[5:]), 6) # without warm-up"
      ],
      "metadata": {
        "colab": {
          "base_uri": "https://localhost:8080/"
        },
        "id": "yZ3JJkXnbLex",
        "outputId": "a88eaa97-4a4d-45bb-8499-ef71317584a8"
      },
      "execution_count": null,
      "outputs": [
        {
          "output_type": "execute_result",
          "data": {
            "text/plain": [
              "0.009576"
            ]
          },
          "metadata": {},
          "execution_count": 48
        }
      ]
    },
    {
      "cell_type": "markdown",
      "source": [
        "Calculate average IoU:"
      ],
      "metadata": {
        "id": "lCKmdh7rJAQH"
      }
    },
    {
      "cell_type": "code",
      "source": [
        "m_iou"
      ],
      "metadata": {
        "colab": {
          "base_uri": "https://localhost:8080/"
        },
        "id": "crblQJwOwrsY",
        "outputId": "0ff154c7-6f33-48da-8b17-40e1d043aa01"
      },
      "execution_count": null,
      "outputs": [
        {
          "output_type": "execute_result",
          "data": {
            "text/plain": [
              "[36.841243743896484,\n",
              " 67.44754028320312,\n",
              " 74.0895004272461,\n",
              " 74.97714233398438,\n",
              " 75.39654541015625,\n",
              " 77.24846649169922,\n",
              " 76.96651458740234,\n",
              " 78.267578125,\n",
              " 76.73648071289062,\n",
              " 78.8839340209961,\n",
              " 79.08731079101562,\n",
              " 78.98548126220703,\n",
              " 78.13572692871094,\n",
              " 79.8209228515625,\n",
              " 80.23210144042969,\n",
              " 80.49217987060547,\n",
              " 80.3382339477539,\n",
              " 80.93624114990234,\n",
              " 81.84821319580078,\n",
              " 78.94775390625]"
            ]
          },
          "metadata": {},
          "execution_count": 66
        }
      ]
    },
    {
      "cell_type": "code",
      "source": [
        "np.round(np.mean(m_iou[5:]), 6) # without warm-up"
      ],
      "metadata": {
        "colab": {
          "base_uri": "https://localhost:8080/"
        },
        "id": "X6ejTUW_JC90",
        "outputId": "d725e61a-f13a-41e2-9e8f-dc75aab4f913"
      },
      "execution_count": null,
      "outputs": [
        {
          "output_type": "execute_result",
          "data": {
            "text/plain": [
              "0.925734"
            ]
          },
          "metadata": {},
          "execution_count": 49
        }
      ]
    },
    {
      "cell_type": "code",
      "source": [
        "np.round(np.std(m_iou[5:]), 6) # without warm-up"
      ],
      "metadata": {
        "colab": {
          "base_uri": "https://localhost:8080/"
        },
        "id": "g2tJ5wZsJEKU",
        "outputId": "5c5d8ff8-e1ef-418b-bad9-72c2bb8052d8"
      },
      "execution_count": null,
      "outputs": [
        {
          "output_type": "execute_result",
          "data": {
            "text/plain": [
              "0.017618"
            ]
          },
          "metadata": {},
          "execution_count": 50
        }
      ]
    },
    {
      "cell_type": "markdown",
      "source": [
        "#### Examine model layers and parameters"
      ],
      "metadata": {
        "id": "qfPbfzKOIWBS"
      }
    },
    {
      "cell_type": "code",
      "source": [
        "# calculate total parameters of the model\n",
        "def count_parameters(model):\n",
        "  return sum(p.numel() for p in model.parameters() if p.requires_grad)"
      ],
      "metadata": {
        "id": "4zRWC4LCIhFi"
      },
      "execution_count": null,
      "outputs": []
    },
    {
      "cell_type": "code",
      "source": [
        "print (f\"{sum(p.numel() for p in model.parameters()):,}\")"
      ],
      "metadata": {
        "colab": {
          "base_uri": "https://localhost:8080/"
        },
        "id": "kE7Gv-wqkLod",
        "outputId": "41049870-35dc-4a8b-f8e7-97877c0b1d8c"
      },
      "execution_count": null,
      "outputs": [
        {
          "output_type": "stream",
          "name": "stdout",
          "text": [
            "6,628,945\n"
          ]
        }
      ]
    },
    {
      "cell_type": "code",
      "source": [
        "para_count = count_parameters(model)\n",
        "print (f\"{para_count:,}\")"
      ],
      "metadata": {
        "id": "lhLtU3t2IWZt",
        "colab": {
          "base_uri": "https://localhost:8080/"
        },
        "outputId": "be7e70ed-7ea0-4a50-fc5c-f46a5eb4e505"
      },
      "execution_count": null,
      "outputs": [
        {
          "output_type": "stream",
          "name": "stdout",
          "text": [
            "4,405,073\n"
          ]
        }
      ]
    },
    {
      "cell_type": "code",
      "source": [
        "from torchsummary import summary\n",
        "\n",
        "print(summary(model, (3, IMAGE_HEIGHT, IMAGE_WIDTH)))"
      ],
      "metadata": {
        "id": "fjJ04puYIYpd"
      },
      "execution_count": null,
      "outputs": []
    },
    {
      "cell_type": "markdown",
      "source": [
        "#### Save Model to G-Drive"
      ],
      "metadata": {
        "id": "GBnDPJRz9-Ri"
      }
    },
    {
      "cell_type": "code",
      "source": [
        "save_flag = True"
      ],
      "metadata": {
        "id": "BgPg2gVWBwuv"
      },
      "execution_count": 31,
      "outputs": []
    },
    {
      "cell_type": "code",
      "source": [
        "# set path to save\n",
        "save_path = root_path + f'Saved_models/{ENCODER}/'\n",
        "save_path"
      ],
      "metadata": {
        "colab": {
          "base_uri": "https://localhost:8080/",
          "height": 35
        },
        "id": "dKqaf_uG735N",
        "outputId": "a4a25e42-b27a-4741-ceac-d32f71bb2771"
      },
      "execution_count": 32,
      "outputs": [
        {
          "output_type": "execute_result",
          "data": {
            "text/plain": [
              "'/content/drive/MyDrive/Ultrasound_project/Saved_models/mobilenet_v2/'"
            ],
            "application/vnd.google.colaboratory.intrinsic+json": {
              "type": "string"
            }
          },
          "metadata": {},
          "execution_count": 32
        }
      ]
    },
    {
      "cell_type": "code",
      "source": [
        "def save_checkpoint(state, save_path, filename):\n",
        "    print(\"=> Saving checkpoint\")\n",
        "    filepath = save_path + filename\n",
        "    torch.save(state, filepath)"
      ],
      "metadata": {
        "id": "KLOn7C5hicTw"
      },
      "execution_count": null,
      "outputs": []
    },
    {
      "cell_type": "code",
      "source": [
        "if save_flag:\n",
        "  checkpoint = {\n",
        "      \"state_dict\": model.state_dict(),\n",
        "      \"optimizer\":optimizer.state_dict(),\n",
        "      }\n",
        "  save_checkpoint(checkpoint, save_path, f\"{model_name}_07072023_randomweights_model.pth.tar\")\n",
        "  print(f\"{save_path}{model_name}_07072023_randomweights_model.pth.tar\")"
      ],
      "metadata": {
        "colab": {
          "base_uri": "https://localhost:8080/"
        },
        "id": "9CE-X9TDiRwq",
        "outputId": "2a012e1c-51a5-4bf1-88d6-b6675a6caf55"
      },
      "execution_count": null,
      "outputs": [
        {
          "output_type": "stream",
          "name": "stdout",
          "text": [
            "=> Saving checkpoint\n",
            "/content/drive/MyDrive/Ultrasound_project/Saved_models/mobilenet_v2/unet_frozen_mobilenet_v2_07072023_randomweights_model.pth.tar\n"
          ]
        }
      ]
    },
    {
      "cell_type": "markdown",
      "source": [
        "## Evaluation on Test Set"
      ],
      "metadata": {
        "id": "tTSXqOGzsTcG"
      }
    },
    {
      "cell_type": "code",
      "source": [
        "TEST_HC18_IMG_DIR = root_path + \"HC18_UNet_orig/val_images/\"\n",
        "TEST_HC18_MASK_DIR = root_path + \"HC18_UNet_orig/val_masks/\"\n",
        "TEST_FPZ_IMG_DIR = root_path + \"HC18_UNet_orig/SpanishHC_test/\"\n",
        "TEST_FPZ_MASK_DIR = root_path + \"HC18_UNet_orig/SpanishHC_test_masks/\""
      ],
      "metadata": {
        "id": "A2hk_N6esUn9"
      },
      "execution_count": 33,
      "outputs": []
    },
    {
      "cell_type": "code",
      "source": [
        "# load saved models\n",
        "def load_checkpoint(checkpoint, model):\n",
        "  print(\"=> Loading checkpoint\")\n",
        "  model.load_state_dict(checkpoint[\"state_dict\"])"
      ],
      "metadata": {
        "id": "_7mQgjO59ET1"
      },
      "execution_count": 34,
      "outputs": []
    },
    {
      "cell_type": "code",
      "source": [
        "test_transforms = A.Compose(\n",
        "    [\n",
        "        A.Resize(height=IMAGE_HEIGHT, width=IMAGE_WIDTH),\n",
        "        A.Normalize(\n",
        "            mean=[0.0, 0.0, 0.0],\n",
        "            std=[1.0, 1.0, 1.0],\n",
        "            max_pixel_value=255.0,\n",
        "        ),\n",
        "        ToTensorV2(),\n",
        "     ],\n",
        ")"
      ],
      "metadata": {
        "id": "G4p0-aZCi0HW"
      },
      "execution_count": 35,
      "outputs": []
    },
    {
      "cell_type": "code",
      "source": [
        "test_hc18_ds = HeadDataset(\n",
        "    image_dir=TEST_HC18_IMG_DIR,\n",
        "    mask_dir=TEST_HC18_MASK_DIR,\n",
        "    transform=test_transforms,\n",
        ")\n",
        "\n",
        "test_hc18_loader = DataLoader(\n",
        "    test_hc18_ds,\n",
        "    batch_size=BATCH_SIZE,\n",
        "    num_workers=NUM_WORKERS,\n",
        "    pin_memory=PIN_MEMORY,\n",
        "    shuffle=False,\n",
        ")\n",
        "\n",
        "test_fpz_ds = HeadDataset(\n",
        "    image_dir=TEST_FPZ_IMG_DIR,\n",
        "    mask_dir=TEST_FPZ_MASK_DIR,\n",
        "    transform=test_transforms,\n",
        ")\n",
        "\n",
        "test_fpz_loader = DataLoader(\n",
        "    test_fpz_ds,\n",
        "    batch_size=BATCH_SIZE,\n",
        "    num_workers=NUM_WORKERS,\n",
        "    pin_memory=PIN_MEMORY,\n",
        "    shuffle=False,\n",
        ")"
      ],
      "metadata": {
        "id": "9qMKNC3Li0Mo"
      },
      "execution_count": 36,
      "outputs": []
    },
    {
      "cell_type": "code",
      "source": [
        "print(len(test_hc18_ds))"
      ],
      "metadata": {
        "colab": {
          "base_uri": "https://localhost:8080/"
        },
        "id": "Q9yIvlWEkezH",
        "outputId": "8a775583-6713-4e2a-b0e6-c29b0b8fe932"
      },
      "execution_count": 37,
      "outputs": [
        {
          "output_type": "stream",
          "name": "stdout",
          "text": [
            "200\n"
          ]
        }
      ]
    },
    {
      "cell_type": "code",
      "source": [
        "checkpoint_name = save_path + f\"{model_name}_02062023_model.pth.tar\"\n",
        "#unet_frozen_mobilenet_v2_02062023_model.pth.tar\n",
        "#unet_frozen_mobilenet_v2_07072023_randomweights_model.pth.tar\n",
        "#unet_frozen_mobilenet_v2_model.pth.tar\n",
        "checkpoint_name"
      ],
      "metadata": {
        "id": "ZRAA5mFTjMOB",
        "colab": {
          "base_uri": "https://localhost:8080/",
          "height": 35
        },
        "outputId": "6403cf7f-aaad-4a67-a1ef-7852fd0689a8"
      },
      "execution_count": 38,
      "outputs": [
        {
          "output_type": "execute_result",
          "data": {
            "text/plain": [
              "'/content/drive/MyDrive/Ultrasound_project/Saved_models/mobilenet_v2/unet_frozen_mobilenet_v2_02062023_model.pth.tar'"
            ],
            "application/vnd.google.colaboratory.intrinsic+json": {
              "type": "string"
            }
          },
          "metadata": {},
          "execution_count": 38
        }
      ]
    },
    {
      "cell_type": "code",
      "source": [
        "LOAD_MODEL = True"
      ],
      "metadata": {
        "id": "ioG1HvvSJRoZ"
      },
      "execution_count": 39,
      "outputs": []
    },
    {
      "cell_type": "code",
      "source": [
        "if LOAD_MODEL:\n",
        "  load_checkpoint(torch.load(checkpoint_name), model)"
      ],
      "metadata": {
        "id": "ji-Oa3In9J2K",
        "colab": {
          "base_uri": "https://localhost:8080/"
        },
        "outputId": "2201e322-8879-4335-e51b-df39b3e607da"
      },
      "execution_count": 40,
      "outputs": [
        {
          "output_type": "stream",
          "name": "stdout",
          "text": [
            "=> Loading checkpoint\n"
          ]
        }
      ]
    },
    {
      "cell_type": "code",
      "source": [
        "if torch.cuda.is_available():\n",
        "    model.cuda()"
      ],
      "metadata": {
        "id": "pNfWHWpntCe1"
      },
      "execution_count": null,
      "outputs": []
    },
    {
      "cell_type": "markdown",
      "source": [
        "### Fetal Head"
      ],
      "metadata": {
        "id": "e8hUiA6GFtox"
      }
    },
    {
      "cell_type": "markdown",
      "source": [
        "**HC18 Test Dataset**"
      ],
      "metadata": {
        "id": "vi_ZurgfJGqL"
      }
    },
    {
      "cell_type": "code",
      "source": [
        "test_hc18_pix_acc = []\n",
        "test_hc18_dice_scores = []\n",
        "test_hc18_miou = []\n",
        "\n",
        "# check accuracy\n",
        "#for i in range(5):\n",
        "#print(f\"Test round {i}:\")\n",
        "check_accuracy(test_hc18_loader,\n",
        "                model,\n",
        "                loss_fn,\n",
        "                test_hc18_pix_acc, test_hc18_dice_scores, test_hc18_miou,\n",
        "                device=DEVICE,\n",
        "                is_train=False)"
      ],
      "metadata": {
        "colab": {
          "base_uri": "https://localhost:8080/"
        },
        "id": "OOU0XFLci0Oj",
        "outputId": "54754162-ef7e-415e-edcd-44923889bd78"
      },
      "execution_count": 41,
      "outputs": [
        {
          "output_type": "stream",
          "name": "stdout",
          "text": [
            "Got 51463866/52428800 with acc 98.1595\n",
            "Dice score: 96.9583\n",
            "mIoU: 94.1054\n",
            "Got validation loss: 0.047137\n"
          ]
        },
        {
          "output_type": "execute_result",
          "data": {
            "text/plain": [
              "([98.15953063964844],\n",
              " [96.95833587646484],\n",
              " [94.10543060302734],\n",
              " [0.047286804765462875,\n",
              "  0.041551414877176285,\n",
              "  0.043017588555812836,\n",
              "  0.05777060613036156,\n",
              "  0.060201264917850494,\n",
              "  0.03728415444493294,\n",
              "  0.047104835510253906,\n",
              "  0.03766707703471184,\n",
              "  0.04433807358145714,\n",
              "  0.05604222044348717,\n",
              "  0.05897848680615425,\n",
              "  0.04822370037436485,\n",
              "  0.04847319796681404,\n",
              "  0.069807268679142,\n",
              "  0.041715580970048904,\n",
              "  0.044195856899023056,\n",
              "  0.04161393642425537,\n",
              "  0.0377417616546154,\n",
              "  0.036596231162548065,\n",
              "  0.04312647506594658])"
            ]
          },
          "metadata": {},
          "execution_count": 41
        }
      ]
    },
    {
      "cell_type": "code",
      "source": [
        "print(f\"Pixel Accuracy: {test_hc18_pix_acc}\")\n",
        "print(f\"Dice Score: {test_hc18_dice_scores}\")\n",
        "print(f\"Mean IoU: {test_hc18_miou}\")"
      ],
      "metadata": {
        "colab": {
          "base_uri": "https://localhost:8080/"
        },
        "id": "czIdNezWLQ94",
        "outputId": "70783bd5-5108-4fdd-824b-da96fa593a85"
      },
      "execution_count": 42,
      "outputs": [
        {
          "output_type": "stream",
          "name": "stdout",
          "text": [
            "Pixel Accuracy: [98.15953063964844]\n",
            "Dice Score: [96.95833587646484]\n",
            "Mean IoU: [94.10543060302734]\n"
          ]
        }
      ]
    },
    {
      "cell_type": "markdown",
      "source": [
        "**NOTE: If the above code block shows AttributeError like the below one, please initialize the model and load weights from saved checkpoint again.**\n",
        "\n",
        "```\n",
        "/usr/local/lib/python3.9/dist-packages/torchsummary/torchsummary.py in hook(module, input, output)\n",
        "     17             m_key = \"%s-%i\" % (class_name, module_idx + 1)\n",
        "     18             summary[m_key] = OrderedDict()\n",
        "---> 19             summary[m_key][\"input_shape\"] = list(input[0].size())\n",
        "     20             summary[m_key][\"input_shape\"][0] = batch_size\n",
        "     21             if isinstance(output, (list, tuple)):\n",
        "\n",
        "AttributeError: 'list' object has no attribute 'size'\n",
        "```"
      ],
      "metadata": {
        "id": "lr15ue4bnwOi"
      }
    },
    {
      "cell_type": "markdown",
      "source": [
        "**Spanish Test Dataset**"
      ],
      "metadata": {
        "id": "S5hfzBSRJKuX"
      }
    },
    {
      "cell_type": "code",
      "source": [
        "test_fpz_pix_acc = []\n",
        "test_fpz_dice_scores = []\n",
        "test_fpz_miou = []\n",
        "\n",
        "# check accuracy\n",
        "check_accuracy(test_fpz_loader,\n",
        "               model,\n",
        "               test_fpz_pix_acc, test_fpz_dice_scores, test_fpz_miou,\n",
        "               device=DEVICE,\n",
        "               is_train=False)"
      ],
      "metadata": {
        "colab": {
          "base_uri": "https://localhost:8080/"
        },
        "id": "pqwrSmn37h1H",
        "outputId": "2fc8bdb5-6864-43b7-ae1d-29b4176575ff"
      },
      "execution_count": null,
      "outputs": [
        {
          "output_type": "stream",
          "name": "stdout",
          "text": [
            "Got 1912588/1966080 with acc 97.279266\n",
            "Dice score: 0.9573686\n",
            "mIoU: 0.9182239\n"
          ]
        },
        {
          "output_type": "execute_result",
          "data": {
            "text/plain": [
              "([97.27926635742188], [0.9573686122894287], [0.9182238578796387])"
            ]
          },
          "metadata": {},
          "execution_count": 64
        }
      ]
    },
    {
      "cell_type": "markdown",
      "source": [
        "### Fetal Abdomen"
      ],
      "metadata": {
        "id": "YvAXkz54Fw4v"
      }
    },
    {
      "cell_type": "markdown",
      "source": [
        "**Spanish Test Dataset**"
      ],
      "metadata": {
        "id": "oWLJ5dK5F5gP"
      }
    },
    {
      "cell_type": "code",
      "source": [
        "# load abdomen images from folder\n",
        "TEST_FPZ_IMG_DIR = root_path + \"HC18_UNet_orig/SpanishAbdomen_test/\"\n",
        "TEST_FPZ_MASK_DIR = root_path + \"HC18_UNet_orig/SpanishAbdomen_test_masks/\""
      ],
      "metadata": {
        "id": "LIgkdDvCGK-Z"
      },
      "execution_count": null,
      "outputs": []
    },
    {
      "cell_type": "code",
      "source": [
        "# re-create dataloader\n",
        "test_fpz_ds = HeadDataset(\n",
        "    image_dir=TEST_FPZ_IMG_DIR,\n",
        "    mask_dir=TEST_FPZ_MASK_DIR,\n",
        "    transform=test_transforms,\n",
        ")\n",
        "\n",
        "test_fpz_loader = DataLoader(\n",
        "    test_fpz_ds,\n",
        "    batch_size=BATCH_SIZE,\n",
        "    num_workers=NUM_WORKERS,\n",
        "    pin_memory=PIN_MEMORY,\n",
        "    shuffle=False,\n",
        ")"
      ],
      "metadata": {
        "id": "twTVX8PlGfvK"
      },
      "execution_count": null,
      "outputs": []
    },
    {
      "cell_type": "code",
      "source": [
        "test_fpz_pix_acc = []\n",
        "test_fpz_dice_scores = []\n",
        "test_fpz_miou = []\n",
        "\n",
        "# check accuracy\n",
        "check_accuracy(test_fpz_loader,\n",
        "               model,\n",
        "               test_fpz_pix_acc, test_fpz_dice_scores, test_fpz_miou,\n",
        "               device=DEVICE,\n",
        "               is_train=False)"
      ],
      "metadata": {
        "id": "K1o7G5SrF2hu",
        "colab": {
          "base_uri": "https://localhost:8080/"
        },
        "outputId": "09680086-befa-46d3-cf5b-f5ce51fe48a6"
      },
      "execution_count": null,
      "outputs": [
        {
          "output_type": "stream",
          "name": "stdout",
          "text": [
            "Got 1796764/1966080 with acc 91.388145\n",
            "Dice score: 0.8212875\n",
            "mIoU: 0.6969792\n"
          ]
        },
        {
          "output_type": "execute_result",
          "data": {
            "text/plain": [
              "([91.38814544677734], [0.8212874531745911], [0.6969792246818542])"
            ]
          },
          "metadata": {},
          "execution_count": 67
        }
      ]
    },
    {
      "cell_type": "markdown",
      "source": [
        "### Fetal Femur"
      ],
      "metadata": {
        "id": "yE_wylIYFzxA"
      }
    },
    {
      "cell_type": "markdown",
      "source": [
        "**Spanish Test Dataset**"
      ],
      "metadata": {
        "id": "Ut28SltoG5jM"
      }
    },
    {
      "cell_type": "code",
      "source": [
        "# load abdomen images from folder\n",
        "TEST_FPZ_IMG_DIR = root_path + \"HC18_UNet_orig/SpanishFemur_test/\"\n",
        "TEST_FPZ_MASK_DIR = root_path + \"HC18_UNet_orig/SpanishFemur_test_masks/\""
      ],
      "metadata": {
        "id": "FxCLsA9xF2Kz"
      },
      "execution_count": null,
      "outputs": []
    },
    {
      "cell_type": "code",
      "source": [
        "# re-create dataloader\n",
        "test_fpz_ds = HeadDataset(\n",
        "    image_dir=TEST_FPZ_IMG_DIR,\n",
        "    mask_dir=TEST_FPZ_MASK_DIR,\n",
        "    transform=test_transforms,\n",
        ")\n",
        "\n",
        "test_fpz_loader = DataLoader(\n",
        "    test_fpz_ds,\n",
        "    batch_size=BATCH_SIZE,\n",
        "    num_workers=NUM_WORKERS,\n",
        "    pin_memory=PIN_MEMORY,\n",
        "    shuffle=False,\n",
        ")"
      ],
      "metadata": {
        "id": "wrSIYzL5G8L_"
      },
      "execution_count": null,
      "outputs": []
    },
    {
      "cell_type": "code",
      "source": [
        "test_fpz_pix_acc = []\n",
        "test_fpz_dice_scores = []\n",
        "test_fpz_miou = []\n",
        "\n",
        "# check accuracy\n",
        "check_accuracy(test_fpz_loader,\n",
        "               model,\n",
        "               test_fpz_pix_acc, test_fpz_dice_scores, test_fpz_miou,\n",
        "               device=DEVICE,\n",
        "               is_train=False)"
      ],
      "metadata": {
        "id": "CmckGWhMG8Os",
        "colab": {
          "base_uri": "https://localhost:8080/"
        },
        "outputId": "a728ed48-c64d-45ea-92d5-3f7d73aa7b9a"
      },
      "execution_count": null,
      "outputs": [
        {
          "output_type": "stream",
          "name": "stdout",
          "text": [
            "Got 1739273/1966080 with acc 88.464005\n",
            "Dice score: 0.0996741\n",
            "mIoU: 0.0524609\n"
          ]
        },
        {
          "output_type": "execute_result",
          "data": {
            "text/plain": [
              "([88.46400451660156], [0.09967412054538727], [0.052460893988609314])"
            ]
          },
          "metadata": {},
          "execution_count": 70
        }
      ]
    },
    {
      "cell_type": "markdown",
      "source": [
        "## Result visualization"
      ],
      "metadata": {
        "id": "q_iFdfRWpPkf"
      }
    },
    {
      "cell_type": "code",
      "source": [
        "#test_dataloader = test_fpz_loader\n",
        "#test_dataloader = test_hc18_loader\n",
        "test_dataloader = val_loader"
      ],
      "metadata": {
        "id": "7m1cVz1TpSIw"
      },
      "execution_count": null,
      "outputs": []
    },
    {
      "cell_type": "code",
      "source": [
        "rand_idx = [19, 23, 26, 25, 21, 10, 5, 8, 2]"
      ],
      "metadata": {
        "id": "YRGDCbpuK-wr"
      },
      "execution_count": null,
      "outputs": []
    },
    {
      "cell_type": "code",
      "source": [
        "#rand_idx = random.sample(range(30), k=5) # select your indices here as a list\n",
        "#subset = torch.utils.data.Subset(test_fpz_ds, rand_idx)\n",
        "subset = torch.utils.data.Subset(test_hc18_ds, rand_idx)\n",
        "testloader_subset = DataLoader(subset, batch_size=1, num_workers=0, shuffle=False)"
      ],
      "metadata": {
        "id": "ZjtYndlp3pVT"
      },
      "execution_count": null,
      "outputs": []
    },
    {
      "cell_type": "code",
      "source": [
        "with torch.no_grad():\n",
        "  for x, y in testloader_subset:\n",
        "    image = x.to(DEVICE)\n",
        "    gt_mask = y.to(DEVICE).unsqueeze(1)\n",
        "    preds = model(image)\n",
        "    preds = preds[0]\n",
        "    preds = (preds > 0.5).float()\n",
        "\n",
        "    plt.figure(figsize=(8, 8))\n",
        "\n",
        "    plt.subplot(1, 3, 1)\n",
        "    x = x.flatten(0, 1)\n",
        "    plt.imshow(x.permute(1, 2, 0))\n",
        "    plt.title(\"Image\")\n",
        "    plt.axis(\"off\")\n",
        "\n",
        "    plt.subplot(1, 3, 2)\n",
        "    plt.imshow(1-y.numpy().squeeze(),cmap='Greys',interpolation='nearest') # just squeeze classes dim, because we have only one class\n",
        "    plt.title(\"Ground truth\")\n",
        "    plt.axis(\"off\")\n",
        "\n",
        "    plt.subplot(1, 3, 3)\n",
        "    plt.imshow(1-preds.cpu().data.numpy().squeeze(),cmap='Greys',interpolation='nearest') # just squeeze classes dim, because we have only one class\n",
        "    plt.title(\"Prediction\")\n",
        "    plt.axis(\"off\")\n",
        "\n",
        "    plt.show()"
      ],
      "metadata": {
        "id": "gJU9C2AIpMhh",
        "colab": {
          "base_uri": "https://localhost:8080/",
          "height": 1000
        },
        "outputId": "d3d98b26-f632-4caf-d10c-62869678e40f"
      },
      "execution_count": null,
      "outputs": [
        {
          "output_type": "display_data",
          "data": {
            "text/plain": [
              "<Figure size 800x800 with 3 Axes>"
            ],
            "image/png": "[encoded data removed]"
          },
          "metadata": {}
        },
        {
          "output_type": "display_data",
          "data": {
            "text/plain": [
              "<Figure size 800x800 with 3 Axes>"
            ],
            "image/png": "[encoded data removed]"
          },
          "metadata": {}
        },
        {
          "output_type": "display_data",
          "data": {
            "text/plain": [
              "<Figure size 800x800 with 3 Axes>"
            ],
            "image/png": "[encoded data removed]"
          },
          "metadata": {}
        },
        {
          "output_type": "display_data",
          "data": {
            "text/plain": [
              "<Figure size 800x800 with 3 Axes>"
            ],
            "image/png": "[encoded data removed]"
          },
          "metadata": {}
        },
        {
          "output_type": "display_data",
          "data": {
            "text/plain": [
              "<Figure size 800x800 with 3 Axes>"
            ],
            "image/png": "[encoded data removed]"
          },
          "metadata": {}
        },
        {
          "output_type": "display_data",
          "data": {
            "text/plain": [
              "<Figure size 800x800 with 3 Axes>"
            ],
            "image/png": "[encoded data removed]"
          },
          "metadata": {}
        },
        {
          "output_type": "display_data",
          "data": {
            "text/plain": [
              "<Figure size 800x800 with 3 Axes>"
            ],
            "image/png": "[encoded data removed]"
          },
          "metadata": {}
        },
        {
          "output_type": "display_data",
          "data": {
            "text/plain": [
              "<Figure size 800x800 with 3 Axes>"
            ],
            "image/png": "[encoded data removed]"
          },
          "metadata": {}
        },
        {
          "output_type": "display_data",
          "data": {
            "text/plain": [
              "<Figure size 800x800 with 3 Axes>"
            ],
            "image/png": "[encoded data removed]"
          },
          "metadata": {}
        }
      ]
    },
    {
      "cell_type": "code",
      "source": [],
      "metadata": {
        "id": "Htj2dRB0TE5z"
      },
      "execution_count": null,
      "outputs": []
    },
    {
      "cell_type": "code",
      "source": [],
      "metadata": {
        "id": "I5dtClmATE7u"
      },
      "execution_count": null,
      "outputs": []
    },
    {
      "cell_type": "code",
      "source": [],
      "metadata": {
        "id": "4wenqJWqTE-J"
      },
      "execution_count": null,
      "outputs": []
    },
    {
      "cell_type": "code",
      "source": [
        "torch.Tensor(32, 8, 3).shape"
      ],
      "metadata": {
        "colab": {
          "base_uri": "https://localhost:8080/"
        },
        "id": "jXK27WyeTFAY",
        "outputId": "5871eadf-991f-4e9a-d53f-23f4e790e7e2"
      },
      "execution_count": null,
      "outputs": [
        {
          "output_type": "execute_result",
          "data": {
            "text/plain": [
              "torch.Size([32, 8, 3])"
            ]
          },
          "metadata": {},
          "execution_count": 9
        }
      ]
    },
    {
      "cell_type": "code",
      "source": [
        "torch.Tensor(32, 8, 3)"
      ],
      "metadata": {
        "id": "f5Ui3plxrmKI",
        "outputId": "ae60020b-441b-4b6c-8f7b-c9ebcd60f9ab",
        "colab": {
          "base_uri": "https://localhost:8080/"
        }
      },
      "execution_count": null,
      "outputs": [
        {
          "output_type": "execute_result",
          "data": {
            "text/plain": [
              "tensor([[[1.1265e+06, 4.5825e-41, 1.1265e+06],\n",
              "         [4.5825e-41, 1.8393e-34, 0.0000e+00],\n",
              "         [1.8393e-34, 0.0000e+00, 0.0000e+00],\n",
              "         [0.0000e+00, 0.0000e+00, 0.0000e+00],\n",
              "         [2.7919e+17, 4.5824e-41, 2.7920e+17],\n",
              "         [4.5824e-41, 1.5414e-44, 5.3021e+25],\n",
              "         [0.0000e+00, 0.0000e+00, 1.1210e-44],\n",
              "         [0.0000e+00, 0.0000e+00, 4.5824e-41]],\n",
              "\n",
              "        [[2.0337e-38, 0.0000e+00,        nan],\n",
              "         [       nan, 0.0000e+00, 0.0000e+00],\n",
              "         [       nan,        nan, 2.7921e+17],\n",
              "         [4.5824e-41, 1.4013e-45, 1.1866e+27],\n",
              "         [1.0089e-43, 0.0000e+00, 9.8091e-45],\n",
              "         [0.0000e+00, 9.3686e+16, 4.5824e-41],\n",
              "         [2.0338e-38, 0.0000e+00, 0.0000e+00],\n",
              "         [0.0000e+00, 1.4013e-45, 0.0000e+00]],\n",
              "\n",
              "        [[1.4013e-45, 0.0000e+00, 2.7921e+17],\n",
              "         [4.5824e-41, 1.4013e-45, 2.1586e+29],\n",
              "         [2.0179e-43, 0.0000e+00, 4.2039e-45],\n",
              "         [0.0000e+00, 9.3686e+16, 4.5824e-41],\n",
              "         [2.0338e-38, 0.0000e+00, 0.0000e+00],\n",
              "         [0.0000e+00, 1.4013e-45, 0.0000e+00],\n",
              "         [1.4013e-45, 0.0000e+00, 1.4013e-44],\n",
              "         [0.0000e+00, 1.4013e-45, 0.0000e+00]],\n",
              "\n",
              "        [[3.0268e-43, 0.0000e+00, 1.2612e-44],\n",
              "         [0.0000e+00, 9.3686e+16, 4.5824e-41],\n",
              "         [2.0338e-38, 0.0000e+00, 0.0000e+00],\n",
              "         [0.0000e+00, 5.6052e-45, 0.0000e+00],\n",
              "         [1.4013e-45, 0.0000e+00, 0.0000e+00],\n",
              "         [0.0000e+00, 1.4013e-45, 1.8019e+31],\n",
              "         [4.0357e-43, 0.0000e+00, 1.2612e-44],\n",
              "         [0.0000e+00, 9.3686e+16, 4.5824e-41]],\n",
              "\n",
              "        [[2.0338e-38, 0.0000e+00, 1.6816e-44],\n",
              "         [0.0000e+00, 5.6052e-45, 0.0000e+00],\n",
              "         [1.4013e-45, 0.0000e+00, 0.0000e+00],\n",
              "         [0.0000e+00, 1.4013e-45, 2.7490e+20],\n",
              "         [5.0447e-43, 0.0000e+00, 1.2612e-44],\n",
              "         [0.0000e+00, 9.3686e+16, 4.5824e-41],\n",
              "         [2.0338e-38, 0.0000e+00, 0.0000e+00],\n",
              "         [0.0000e+00, 8.4078e-45, 0.0000e+00]],\n",
              "\n",
              "        [[4.2039e-45, 0.0000e+00, 0.0000e+00],\n",
              "         [0.0000e+00, 0.0000e+00, 0.0000e+00],\n",
              "         [0.0000e+00, 0.0000e+00, 1.4013e-45],\n",
              "         [0.0000e+00, 0.0000e+00, 4.5615e-41],\n",
              "         [2.0338e-38, 0.0000e+00, 1.4013e-44],\n",
              "         [0.0000e+00, 8.4078e-45, 0.0000e+00],\n",
              "         [4.2039e-45, 0.0000e+00, 0.0000e+00],\n",
              "         [0.0000e+00, 1.4013e-45, 0.0000e+00]],\n",
              "\n",
              "        [[7.0625e-43, 0.0000e+00, 1.4013e-44],\n",
              "         [0.0000e+00, 9.3686e+16, 4.5824e-41],\n",
              "         [2.0338e-38, 0.0000e+00, 0.0000e+00],\n",
              "         [0.0000e+00, 0.0000e+00, 0.0000e+00],\n",
              "         [0.0000e+00, 0.0000e+00, 0.0000e+00],\n",
              "         [0.0000e+00, 1.4013e-45, 0.0000e+00],\n",
              "         [0.0000e+00, 0.0000e+00, 0.0000e+00],\n",
              "         [0.0000e+00, 0.0000e+00, 0.0000e+00]],\n",
              "\n",
              "        [[0.0000e+00, 0.0000e+00, 0.0000e+00],\n",
              "         [0.0000e+00, 0.0000e+00, 0.0000e+00],\n",
              "         [0.0000e+00, 0.0000e+00, 0.0000e+00],\n",
              "         [0.0000e+00, 9.3688e+16, 4.5824e-41],\n",
              "         [0.0000e+00, 1.4013e-45, 6.0536e-43],\n",
              "         [0.0000e+00, 2.8026e-45, 0.0000e+00],\n",
              "         [9.3688e+16, 4.5824e-41, 6.0004e-38],\n",
              "         [0.0000e+00,        nan,        nan]],\n",
              "\n",
              "        [[3.6434e-44, 0.0000e+00,        nan],\n",
              "         [       nan, 9.3688e+16, 4.5824e-41],\n",
              "         [1.4013e-45, 0.0000e+00, 1.0201e-42],\n",
              "         [0.0000e+00, 1.2612e-44, 0.0000e+00],\n",
              "         [9.3688e+16, 4.5824e-41, 6.0004e-38],\n",
              "         [0.0000e+00, 1.4013e-45, 0.0000e+00],\n",
              "         [3.6434e-44, 0.0000e+00,        nan],\n",
              "         [       nan, 1.4013e-45, 4.5824e-41]],\n",
              "\n",
              "        [[1.4013e-45, 0.0000e+00, 1.1210e-42],\n",
              "         [0.0000e+00, 4.2039e-45, 0.0000e+00],\n",
              "         [9.3688e+16, 4.5824e-41, 6.0023e-38],\n",
              "         [0.0000e+00, 0.0000e+00, 0.0000e+00],\n",
              "         [0.0000e+00, 0.0000e+00, 0.0000e+00],\n",
              "         [0.0000e+00, 0.0000e+00, 0.0000e+00],\n",
              "         [1.4013e-45, 0.0000e+00, 0.0000e+00],\n",
              "         [0.0000e+00, 9.3688e+16, 4.5824e-41]],\n",
              "\n",
              "        [[0.0000e+00, 0.0000e+00, 0.0000e+00],\n",
              "         [0.0000e+00, 0.0000e+00, 0.0000e+00],\n",
              "         [0.0000e+00, 0.0000e+00, 0.0000e+00],\n",
              "         [0.0000e+00, 0.0000e+00, 0.0000e+00],\n",
              "         [0.0000e+00, 0.0000e+00, 0.0000e+00],\n",
              "         [0.0000e+00, 0.0000e+00, 0.0000e+00],\n",
              "         [0.0000e+00, 0.0000e+00, 0.0000e+00],\n",
              "         [0.0000e+00, 0.0000e+00, 0.0000e+00]],\n",
              "\n",
              "        [[0.0000e+00, 0.0000e+00, 0.0000e+00],\n",
              "         [0.0000e+00, 0.0000e+00, 0.0000e+00],\n",
              "         [9.3688e+16, 4.5824e-41, 9.3688e+16],\n",
              "         [4.5824e-41, 1.1210e-42, 0.0000e+00],\n",
              "         [2.8026e-45, 0.0000e+00, 9.3688e+16],\n",
              "         [4.5824e-41, 6.0004e-38, 0.0000e+00],\n",
              "         [8.9249e-42, 0.0000e+00, 1.1263e+06],\n",
              "         [4.5825e-41, 1.1263e+06, 4.5825e-41]],\n",
              "\n",
              "        [[0.0000e+00, 0.0000e+00, 0.0000e+00],\n",
              "         [0.0000e+00, 1.5358e-42, 0.0000e+00],\n",
              "         [1.2612e-44, 0.0000e+00, 9.3688e+16],\n",
              "         [4.5824e-41, 6.0004e-38, 0.0000e+00],\n",
              "         [1.6534e+19, 1.7860e+31, 1.5766e-19],\n",
              "         [1.1434e+27, 1.2845e+31, 1.8062e+28],\n",
              "         [7.1297e+28, 6.1961e-04, 1.4013e-45],\n",
              "         [1.1866e+27, 5.2965e+31, 4.2964e+24]],\n",
              "\n",
              "        [[4.5581e+30, 2.2264e-15, 4.8222e+30],\n",
              "         [4.4166e+21, 8.4830e+26, 2.1712e+29],\n",
              "         [7.1941e+28, 2.5350e-09, 1.7241e+25],\n",
              "         [2.1473e+29, 2.7138e+20, 2.2137e-10],\n",
              "         [4.4721e+21, 1.6082e+19, 7.3977e+31],\n",
              "         [2.1586e+29, 2.5771e-18, 1.2544e+28],\n",
              "         [1.8177e+31, 6.7111e+22, 2.1715e-18],\n",
              "         [7.2143e+22, 7.2060e+31, 3.1098e-18]],\n",
              "\n",
              "        [[7.8399e+26, 7.3343e+31, 1.5766e-19],\n",
              "         [1.1434e+27, 1.9140e+23, 3.1093e-18],\n",
              "         [1.4745e-10, 2.2051e-10, 2.6221e+20],\n",
              "         [1.7846e+25, 7.7945e+34, 1.8523e+28],\n",
              "         [6.4458e-10, 1.8491e+31, 2.7691e+20],\n",
              "         [1.0645e+24, 5.5603e+31, 4.2964e+24],\n",
              "         [1.6877e+25, 1.7612e+19, 7.7943e+34],\n",
              "         [2.1707e-18, 1.7408e+25, 1.8467e+25]],\n",
              "\n",
              "        [[6.1963e-04, 1.1868e+27, 2.1708e-18],\n",
              "         [1.8019e+31, 1.8062e+28, 1.5766e-19],\n",
              "         [6.8571e+22, 4.7429e+30, 1.9858e+29],\n",
              "         [2.7138e+20, 2.9588e+21, 2.8181e+20],\n",
              "         [2.0619e-19, 2.8175e+20, 4.8418e+30],\n",
              "         [3.0980e+32, 2.0616e-19, 2.0535e-19],\n",
              "         [7.4937e+31, 1.7241e+25, 1.8888e+31],\n",
              "         [1.6816e-44, 7.5540e+31, 7.5338e+28]],\n",
              "\n",
              "        [[1.8499e+20, 1.1835e+22, 1.8058e+28],\n",
              "         [3.1036e+27, 6.8608e+22, 1.8465e+25],\n",
              "         [2.0022e-19, 4.5445e+30, 7.2251e+28],\n",
              "         [4.9657e+28, 2.0532e-19, 1.8176e+31],\n",
              "         [7.2053e+22, 4.7428e+30, 1.7036e+28],\n",
              "         [1.7257e+25, 1.8524e+28, 7.6724e+34],\n",
              "         [7.3880e+31, 7.5031e+28, 6.7415e+22],\n",
              "         [2.7339e+20, 2.0343e+32, 1.7863e+25]],\n",
              "\n",
              "        [[1.8176e+31, 4.7418e+30, 2.7200e+23],\n",
              "         [6.8884e+22, 1.2713e+31, 2.6915e+20],\n",
              "         [2.8871e+20, 1.8524e+28, 2.5945e+17],\n",
              "         [1.7744e+28, 1.9208e+31, 1.7589e+22],\n",
              "         [1.1178e+21, 2.7953e+20, 5.0856e+31],\n",
              "         [1.8178e+31, 1.7418e+28, 7.5782e+31],\n",
              "         [2.0532e-19, 2.7089e+23, 2.0336e+32],\n",
              "         [1.7863e+25, 1.8176e+31, 2.6837e+17]],\n",
              "\n",
              "        [[2.0692e-19, 2.0615e-19, 1.3409e+13],\n",
              "         [2.9562e+21, 7.5571e+31, 2.7722e+20],\n",
              "         [1.4607e-19, 7.1435e+31, 2.7485e+20],\n",
              "         [1.8177e+31, 3.0357e+32, 2.0283e-19],\n",
              "         [2.0198e-19, 4.8613e+30, 1.7753e+28],\n",
              "         [2.0535e-19, 2.9393e+29, 7.1450e+31],\n",
              "         [1.8891e+31, 1.8525e+28, 2.0192e-19],\n",
              "         [8.0535e+02, 4.1025e+04, 3.2519e+33]],\n",
              "\n",
              "        [[1.9690e-19, 2.9393e+29, 1.9436e-19],\n",
              "         [2.7714e+20, 1.7863e+25, 1.5671e-01],\n",
              "         [4.0729e-11, 2.3047e-12, 7.5246e+28],\n",
              "         [6.7131e+22, 1.2397e+28, 3.3598e-12],\n",
              "         [1.8038e+28, 1.6488e+22, 1.8058e+28],\n",
              "         [7.2251e+28, 1.5766e-19, 1.1434e+27],\n",
              "         [2.9907e+21, 1.9283e+31, 4.4160e+21],\n",
              "         [1.8319e+25, 6.1952e-04, 1.1868e+27]],\n",
              "\n",
              "        [[2.1708e-18, 7.3977e+31, 4.4160e+21],\n",
              "         [1.8319e+25, 6.1952e-04, 1.1868e+27],\n",
              "         [2.1708e-18, 1.1431e+27, 2.7082e+23],\n",
              "         [1.2397e+28, 3.3598e-12, 2.6187e+20],\n",
              "         [1.6486e+22, 7.7133e+31, 1.1259e+24],\n",
              "         [1.2397e+28, 3.3598e-12, 1.8471e+31],\n",
              "         [1.7483e+25, 1.5766e-19, 1.8728e+31],\n",
              "         [2.1708e-18, 1.0902e+27, 3.2984e-18]],\n",
              "\n",
              "        [[2.6532e+20, 3.2607e-12, 1.8471e+31],\n",
              "         [1.7860e+31, 1.5766e-19, 1.1434e+27],\n",
              "         [1.9140e+23, 1.7595e+22, 5.0778e+31],\n",
              "         [3.2608e-12, 2.7455e+20, 6.1949e-04],\n",
              "         [7.5556e+28, 3.1495e-18, 1.2250e+25],\n",
              "         [1.0995e+27, 3.2994e-18, 2.6532e+20],\n",
              "         [3.2607e-12, 7.5246e+28, 6.7131e+22],\n",
              "         [2.8183e+20, 1.0806e+27, 3.1094e-18]],\n",
              "\n",
              "        [[2.5029e-12, 7.5246e+28, 6.7131e+22],\n",
              "         [1.7591e+22, 1.8060e+28, 1.5766e-19],\n",
              "         [3.6023e-12, 6.9989e+22, 2.6330e+20],\n",
              "         [6.1943e-04, 3.6022e-12, 7.1223e+28],\n",
              "         [3.0958e-18, 4.8354e+30, 1.1516e-38],\n",
              "         [0.0000e+00, 0.0000e+00, 0.0000e+00],\n",
              "         [7.4451e-42, 0.0000e+00, 1.1263e+06],\n",
              "         [4.5825e-41, 1.5252e-34, 0.0000e+00]],\n",
              "\n",
              "        [[0.0000e+00, 0.0000e+00, 0.0000e+00],\n",
              "         [0.0000e+00, 0.0000e+00, 0.0000e+00],\n",
              "         [7.3778e-42, 0.0000e+00, 1.1263e+06],\n",
              "         [4.5825e-41, 1.1263e+06, 4.5825e-41],\n",
              "         [0.0000e+00, 0.0000e+00, 0.0000e+00],\n",
              "         [0.0000e+00, 3.1950e-43, 0.0000e+00],\n",
              "         [0.0000e+00, 0.0000e+00, 7.7052e+31],\n",
              "         [1.9447e+31, 2.1715e-18, 2.3081e-12]],\n",
              "\n",
              "        [[2.6302e+20, 6.1943e-04, 1.8733e+20],\n",
              "         [1.7865e+25, 1.8465e+25, 5.3021e+25],\n",
              "         [1.8569e-04, 4.5825e-41, 0.0000e+00],\n",
              "         [4.3605e+27, 1.5766e-19, 1.7667e+22],\n",
              "         [3.1093e-18, 7.4767e+20, 1.6534e+19],\n",
              "         [1.7860e+31, 1.5766e-19, 1.1434e+27],\n",
              "         [1.2845e+31, 1.8062e+28, 7.1297e+28],\n",
              "         [6.1961e-04, 3.6390e+27, 1.1866e+27]],\n",
              "\n",
              "        [[5.2965e+31, 4.2964e+24, 4.5581e+30],\n",
              "         [2.2264e-15, 4.8222e+30, 4.4166e+21],\n",
              "         [8.4830e+26, 2.1712e+29, 7.1941e+28],\n",
              "         [2.5350e-09, 1.7241e+25, 2.1473e+29],\n",
              "         [2.7138e+20, 2.2137e-10, 4.4721e+21],\n",
              "         [1.6082e+19, 7.3977e+31, 2.1586e+29],\n",
              "         [7.0415e-42, 0.0000e+00, 1.1263e+06],\n",
              "         [4.5825e-41, 1.1263e+06, 4.5825e-41]],\n",
              "\n",
              "        [[0.0000e+00, 0.0000e+00, 0.0000e+00],\n",
              "         [0.0000e+00, 1.5766e-19, 1.1434e+27],\n",
              "         [1.9140e+23, 3.1093e-18, 1.4745e-10],\n",
              "         [2.2051e-10, 2.6221e+20, 1.7846e+25],\n",
              "         [7.7945e+34, 1.8523e+28, 6.4458e-10],\n",
              "         [1.8491e+31, 2.7691e+20, 1.0645e+24],\n",
              "         [5.5603e+31, 4.2964e+24, 1.6877e+25],\n",
              "         [1.7612e+19, 7.7943e+34, 2.1707e-18]],\n",
              "\n",
              "        [[1.7408e+25, 1.8467e+25, 6.1963e-04],\n",
              "         [1.1868e+27, 2.1708e-18, 1.8019e+31],\n",
              "         [1.8062e+28, 1.5766e-19, 6.8571e+22],\n",
              "         [4.7429e+30, 1.9858e+29, 2.7138e+20],\n",
              "         [2.9588e+21, 2.8181e+20, 2.0619e-19],\n",
              "         [2.8175e+20, 4.8418e+30, 3.0980e+32],\n",
              "         [2.0616e-19, 2.0535e-19, 7.4937e+31],\n",
              "         [1.7241e+25, 1.8888e+31, 2.7490e+20]],\n",
              "\n",
              "        [[7.5540e+31, 7.5338e+28, 1.8499e+20],\n",
              "         [1.1835e+22, 1.8058e+28, 3.1036e+27],\n",
              "         [6.8608e+22, 1.8465e+25, 2.0022e-19],\n",
              "         [4.5445e+30, 7.2251e+28, 4.9657e+28],\n",
              "         [2.8026e-45, 0.0000e+00, 5.1486e+18],\n",
              "         [4.5824e-41, 0.0000e+00, 1.7257e+25],\n",
              "         [2.7919e+17, 4.5824e-41, 7.3880e+31],\n",
              "         [7.5031e+28, 0.0000e+00, 0.0000e+00]],\n",
              "\n",
              "        [[0.0000e+00, 0.0000e+00, 0.0000e+00],\n",
              "         [0.0000e+00, 2.7919e+17, 4.5824e-41],\n",
              "         [2.7919e+17, 4.5824e-41, 0.0000e+00],\n",
              "         [0.0000e+00, 0.0000e+00, 0.0000e+00],\n",
              "         [0.0000e+00, 0.0000e+00, 6.5258e-42],\n",
              "         [0.0000e+00, 1.1263e+06, 4.5825e-41],\n",
              "         [1.1263e+06, 4.5825e-41, 0.0000e+00],\n",
              "         [0.0000e+00, 0.0000e+00, 0.0000e+00]],\n",
              "\n",
              "        [[1.8176e+31, 2.6837e+17, 2.0692e-19],\n",
              "         [2.0615e-19, 1.3409e+13, 2.9562e+21],\n",
              "         [7.5571e+31, 2.7722e+20, 1.4607e-19],\n",
              "         [7.1435e+31, 2.7485e+20, 1.8177e+31],\n",
              "         [3.0357e+32, 2.0283e-19, 2.0198e-19],\n",
              "         [4.8613e+30, 1.7753e+28, 2.0535e-19],\n",
              "         [2.9393e+29, 7.1450e+31, 1.8891e+31],\n",
              "         [1.8525e+28, 2.0192e-19, 8.0535e+02]],\n",
              "\n",
              "        [[4.1025e+04, 3.2519e+33, 1.9690e-19],\n",
              "         [2.9393e+29, 1.9436e-19, 2.7714e+20],\n",
              "         [1.7863e+25, 1.5671e-01, 4.0729e-11],\n",
              "         [2.3047e-12, 7.5246e+28, 6.7131e+22],\n",
              "         [1.2397e+28, 3.3598e-12, 1.8038e+28],\n",
              "         [1.6488e+22, 1.8058e+28, 7.2251e+28],\n",
              "         [1.5766e-19, 1.1434e+27, 2.9907e+21],\n",
              "         [1.9283e+31, 4.4160e+21, 1.8319e+25]]])"
            ]
          },
          "metadata": {},
          "execution_count": 10
        }
      ]
    }
  ]
}